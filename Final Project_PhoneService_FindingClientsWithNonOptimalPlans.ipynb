{
 "cells": [
  {
   "cell_type": "markdown",
   "metadata": {},
   "source": [
    "# Final Project"
   ]
  },
  {
   "cell_type": "markdown",
   "metadata": {},
   "source": [
    "The virtual telephony service CallMeMaybe is developing some new functions that will give supervisors information on the clients with non-optimal plans."
   ]
  },
  {
   "cell_type": "markdown",
   "metadata": {},
   "source": [
    "#### Link to GoogleDrive with archive\n",
    "Contains: presentation with my findings, link to the Tableau dashboard and documentation list.\n",
    "\n",
    "https://drive.google.com/file/d/1_CYKghVhzt2bBaJkUZlft4jc0_ZVPwDS/view?usp=sharing"
   ]
  },
  {
   "cell_type": "markdown",
   "metadata": {},
   "source": [
    "#### Link to the Tableau dashboard:\n",
    "https://public.tableau.com/profile/sofia.toumin#!/vizhome/FinalProjectTelecomDashboard/CallMeMaybe"
   ]
  },
  {
   "cell_type": "markdown",
   "metadata": {},
   "source": [
    "## Our Goals:\n",
    "\n",
    "We need to find clients who:\n",
    "1. Overpay for their current plan\n",
    "2. Need bigger plans, since they'll be more advantageous"
   ]
  },
  {
   "cell_type": "markdown",
   "metadata": {},
   "source": [
    "## Plan of work:\n",
    "\n",
    "1. [Download the data and study the general information](#part1) <br>\n",
    "2. Data preprocessing <br>\n",
    "    2.1. [Duplicated rows](#part2_1) <br>\n",
    "    2.2. [Missing values](#part2_2) <br>\n",
    "    2.3. [Merging tables](#part2_3) <br>\n",
    "3. [Exploratory data analysis](#part3) <br>\n",
    "4. [Aggregating tables and calculating payment size](#part4) <br>\n",
    "5. [Finding clients with non-optimal plans](#part5) <br>\n",
    "6. [Various scenarios and their impact on profit](#part6) <br>\n",
    "7. [Statistical tests](#part7) <br>\n",
    "8. [General conclusions](#part8)"
   ]
  },
  {
   "cell_type": "markdown",
   "metadata": {},
   "source": [
    "<a id=\"part1\"></a>\n",
    "### Download the data and study general information"
   ]
  },
  {
   "cell_type": "code",
   "execution_count": 1,
   "metadata": {},
   "outputs": [],
   "source": [
    "import pandas as pd\n",
    "import numpy as np\n",
    "from matplotlib import pyplot as plt\n",
    "import seaborn as sns\n",
    "from scipy import stats as st"
   ]
  },
  {
   "cell_type": "code",
   "execution_count": 2,
   "metadata": {},
   "outputs": [],
   "source": [
    "import warnings\n",
    "warnings.filterwarnings(\"ignore\")"
   ]
  },
  {
   "cell_type": "code",
   "execution_count": 3,
   "metadata": {},
   "outputs": [],
   "source": [
    "sns.set_style('darkgrid')"
   ]
  },
  {
   "cell_type": "code",
   "execution_count": 4,
   "metadata": {},
   "outputs": [],
   "source": [
    "dataset = pd.read_csv(r'C:\\Users\\Sofia\\datasets\\telecom_dataset_us.csv', parse_dates=['date'])\n",
    "clients = pd.read_csv(r'C:\\Users\\Sofia\\datasets\\telecom_clients_us.csv', parse_dates=['date_start'])"
   ]
  },
  {
   "cell_type": "code",
   "execution_count": 5,
   "metadata": {},
   "outputs": [
    {
     "data": {
      "text/html": [
       "<div>\n",
       "<style scoped>\n",
       "    .dataframe tbody tr th:only-of-type {\n",
       "        vertical-align: middle;\n",
       "    }\n",
       "\n",
       "    .dataframe tbody tr th {\n",
       "        vertical-align: top;\n",
       "    }\n",
       "\n",
       "    .dataframe thead th {\n",
       "        text-align: right;\n",
       "    }\n",
       "</style>\n",
       "<table border=\"1\" class=\"dataframe\">\n",
       "  <thead>\n",
       "    <tr style=\"text-align: right;\">\n",
       "      <th></th>\n",
       "      <th>user_id</th>\n",
       "      <th>date</th>\n",
       "      <th>direction</th>\n",
       "      <th>internal</th>\n",
       "      <th>operator_id</th>\n",
       "      <th>is_missed_call</th>\n",
       "      <th>calls_count</th>\n",
       "      <th>call_duration</th>\n",
       "      <th>total_call_duration</th>\n",
       "    </tr>\n",
       "  </thead>\n",
       "  <tbody>\n",
       "    <tr>\n",
       "      <th>46469</th>\n",
       "      <td>168093</td>\n",
       "      <td>2019-10-22 00:00:00+03:00</td>\n",
       "      <td>out</td>\n",
       "      <td>False</td>\n",
       "      <td>941390.0</td>\n",
       "      <td>False</td>\n",
       "      <td>140</td>\n",
       "      <td>2772</td>\n",
       "      <td>4869</td>\n",
       "    </tr>\n",
       "    <tr>\n",
       "      <th>32756</th>\n",
       "      <td>167471</td>\n",
       "      <td>2019-11-22 00:00:00+03:00</td>\n",
       "      <td>in</td>\n",
       "      <td>False</td>\n",
       "      <td>NaN</td>\n",
       "      <td>True</td>\n",
       "      <td>3</td>\n",
       "      <td>0</td>\n",
       "      <td>106</td>\n",
       "    </tr>\n",
       "    <tr>\n",
       "      <th>40548</th>\n",
       "      <td>167827</td>\n",
       "      <td>2019-10-14 00:00:00+03:00</td>\n",
       "      <td>in</td>\n",
       "      <td>False</td>\n",
       "      <td>929424.0</td>\n",
       "      <td>False</td>\n",
       "      <td>64</td>\n",
       "      <td>922</td>\n",
       "      <td>1025</td>\n",
       "    </tr>\n",
       "    <tr>\n",
       "      <th>49118</th>\n",
       "      <td>168187</td>\n",
       "      <td>2019-11-20 00:00:00+03:00</td>\n",
       "      <td>out</td>\n",
       "      <td>False</td>\n",
       "      <td>937812.0</td>\n",
       "      <td>False</td>\n",
       "      <td>8</td>\n",
       "      <td>1031</td>\n",
       "      <td>1279</td>\n",
       "    </tr>\n",
       "    <tr>\n",
       "      <th>41801</th>\n",
       "      <td>167888</td>\n",
       "      <td>2019-11-16 00:00:00+03:00</td>\n",
       "      <td>in</td>\n",
       "      <td>False</td>\n",
       "      <td>NaN</td>\n",
       "      <td>True</td>\n",
       "      <td>36</td>\n",
       "      <td>0</td>\n",
       "      <td>777</td>\n",
       "    </tr>\n",
       "    <tr>\n",
       "      <th>14398</th>\n",
       "      <td>166836</td>\n",
       "      <td>2019-10-31 00:00:00+03:00</td>\n",
       "      <td>in</td>\n",
       "      <td>False</td>\n",
       "      <td>NaN</td>\n",
       "      <td>True</td>\n",
       "      <td>6</td>\n",
       "      <td>0</td>\n",
       "      <td>169</td>\n",
       "    </tr>\n",
       "    <tr>\n",
       "      <th>50536</th>\n",
       "      <td>168252</td>\n",
       "      <td>2019-11-15 00:00:00+03:00</td>\n",
       "      <td>out</td>\n",
       "      <td>False</td>\n",
       "      <td>NaN</td>\n",
       "      <td>False</td>\n",
       "      <td>16</td>\n",
       "      <td>8164</td>\n",
       "      <td>8366</td>\n",
       "    </tr>\n",
       "    <tr>\n",
       "      <th>46058</th>\n",
       "      <td>168091</td>\n",
       "      <td>2019-11-14 00:00:00+03:00</td>\n",
       "      <td>out</td>\n",
       "      <td>False</td>\n",
       "      <td>958470.0</td>\n",
       "      <td>True</td>\n",
       "      <td>1</td>\n",
       "      <td>0</td>\n",
       "      <td>31</td>\n",
       "    </tr>\n",
       "    <tr>\n",
       "      <th>21074</th>\n",
       "      <td>167016</td>\n",
       "      <td>2019-11-12 00:00:00+03:00</td>\n",
       "      <td>in</td>\n",
       "      <td>False</td>\n",
       "      <td>NaN</td>\n",
       "      <td>True</td>\n",
       "      <td>17</td>\n",
       "      <td>0</td>\n",
       "      <td>104</td>\n",
       "    </tr>\n",
       "    <tr>\n",
       "      <th>8120</th>\n",
       "      <td>166658</td>\n",
       "      <td>2019-08-29 00:00:00+03:00</td>\n",
       "      <td>out</td>\n",
       "      <td>False</td>\n",
       "      <td>891170.0</td>\n",
       "      <td>False</td>\n",
       "      <td>8</td>\n",
       "      <td>593</td>\n",
       "      <td>685</td>\n",
       "    </tr>\n",
       "  </tbody>\n",
       "</table>\n",
       "</div>"
      ],
      "text/plain": [
       "       user_id                      date direction internal  operator_id  \\\n",
       "46469   168093 2019-10-22 00:00:00+03:00       out    False     941390.0   \n",
       "32756   167471 2019-11-22 00:00:00+03:00        in    False          NaN   \n",
       "40548   167827 2019-10-14 00:00:00+03:00        in    False     929424.0   \n",
       "49118   168187 2019-11-20 00:00:00+03:00       out    False     937812.0   \n",
       "41801   167888 2019-11-16 00:00:00+03:00        in    False          NaN   \n",
       "14398   166836 2019-10-31 00:00:00+03:00        in    False          NaN   \n",
       "50536   168252 2019-11-15 00:00:00+03:00       out    False          NaN   \n",
       "46058   168091 2019-11-14 00:00:00+03:00       out    False     958470.0   \n",
       "21074   167016 2019-11-12 00:00:00+03:00        in    False          NaN   \n",
       "8120    166658 2019-08-29 00:00:00+03:00       out    False     891170.0   \n",
       "\n",
       "       is_missed_call  calls_count  call_duration  total_call_duration  \n",
       "46469           False          140           2772                 4869  \n",
       "32756            True            3              0                  106  \n",
       "40548           False           64            922                 1025  \n",
       "49118           False            8           1031                 1279  \n",
       "41801            True           36              0                  777  \n",
       "14398            True            6              0                  169  \n",
       "50536           False           16           8164                 8366  \n",
       "46058            True            1              0                   31  \n",
       "21074            True           17              0                  104  \n",
       "8120            False            8            593                  685  "
      ]
     },
     "metadata": {},
     "output_type": "display_data"
    },
    {
     "name": "stdout",
     "output_type": "stream",
     "text": [
      "<class 'pandas.core.frame.DataFrame'>\n",
      "RangeIndex: 53902 entries, 0 to 53901\n",
      "Data columns (total 9 columns):\n",
      " #   Column               Non-Null Count  Dtype                                \n",
      "---  ------               --------------  -----                                \n",
      " 0   user_id              53902 non-null  int64                                \n",
      " 1   date                 53902 non-null  datetime64[ns, pytz.FixedOffset(180)]\n",
      " 2   direction            53902 non-null  object                               \n",
      " 3   internal             53785 non-null  object                               \n",
      " 4   operator_id          45730 non-null  float64                              \n",
      " 5   is_missed_call       53902 non-null  bool                                 \n",
      " 6   calls_count          53902 non-null  int64                                \n",
      " 7   call_duration        53902 non-null  int64                                \n",
      " 8   total_call_duration  53902 non-null  int64                                \n",
      "dtypes: bool(1), datetime64[ns, pytz.FixedOffset(180)](1), float64(1), int64(4), object(2)\n",
      "memory usage: 3.3+ MB\n",
      "None\n"
     ]
    }
   ],
   "source": [
    "display(dataset.sample(10))\n",
    "print(dataset.info())"
   ]
  },
  {
   "cell_type": "code",
   "execution_count": 6,
   "metadata": {},
   "outputs": [
    {
     "data": {
      "text/html": [
       "<div>\n",
       "<style scoped>\n",
       "    .dataframe tbody tr th:only-of-type {\n",
       "        vertical-align: middle;\n",
       "    }\n",
       "\n",
       "    .dataframe tbody tr th {\n",
       "        vertical-align: top;\n",
       "    }\n",
       "\n",
       "    .dataframe thead th {\n",
       "        text-align: right;\n",
       "    }\n",
       "</style>\n",
       "<table border=\"1\" class=\"dataframe\">\n",
       "  <thead>\n",
       "    <tr style=\"text-align: right;\">\n",
       "      <th></th>\n",
       "      <th>user_id</th>\n",
       "      <th>tariff_plan</th>\n",
       "      <th>date_start</th>\n",
       "    </tr>\n",
       "  </thead>\n",
       "  <tbody>\n",
       "    <tr>\n",
       "      <th>253</th>\n",
       "      <td>168271</td>\n",
       "      <td>C</td>\n",
       "      <td>2019-10-18</td>\n",
       "    </tr>\n",
       "    <tr>\n",
       "      <th>181</th>\n",
       "      <td>168144</td>\n",
       "      <td>C</td>\n",
       "      <td>2019-10-15</td>\n",
       "    </tr>\n",
       "    <tr>\n",
       "      <th>190</th>\n",
       "      <td>168030</td>\n",
       "      <td>C</td>\n",
       "      <td>2019-10-09</td>\n",
       "    </tr>\n",
       "    <tr>\n",
       "      <th>15</th>\n",
       "      <td>168422</td>\n",
       "      <td>A</td>\n",
       "      <td>2019-10-24</td>\n",
       "    </tr>\n",
       "    <tr>\n",
       "      <th>90</th>\n",
       "      <td>167325</td>\n",
       "      <td>C</td>\n",
       "      <td>2019-09-11</td>\n",
       "    </tr>\n",
       "    <tr>\n",
       "      <th>93</th>\n",
       "      <td>167534</td>\n",
       "      <td>C</td>\n",
       "      <td>2019-09-19</td>\n",
       "    </tr>\n",
       "    <tr>\n",
       "      <th>173</th>\n",
       "      <td>168381</td>\n",
       "      <td>C</td>\n",
       "      <td>2019-10-23</td>\n",
       "    </tr>\n",
       "    <tr>\n",
       "      <th>118</th>\n",
       "      <td>168471</td>\n",
       "      <td>C</td>\n",
       "      <td>2019-10-28</td>\n",
       "    </tr>\n",
       "    <tr>\n",
       "      <th>345</th>\n",
       "      <td>166679</td>\n",
       "      <td>C</td>\n",
       "      <td>2019-08-14</td>\n",
       "    </tr>\n",
       "    <tr>\n",
       "      <th>603</th>\n",
       "      <td>167054</td>\n",
       "      <td>B</td>\n",
       "      <td>2019-08-29</td>\n",
       "    </tr>\n",
       "  </tbody>\n",
       "</table>\n",
       "</div>"
      ],
      "text/plain": [
       "     user_id tariff_plan date_start\n",
       "253   168271           C 2019-10-18\n",
       "181   168144           C 2019-10-15\n",
       "190   168030           C 2019-10-09\n",
       "15    168422           A 2019-10-24\n",
       "90    167325           C 2019-09-11\n",
       "93    167534           C 2019-09-19\n",
       "173   168381           C 2019-10-23\n",
       "118   168471           C 2019-10-28\n",
       "345   166679           C 2019-08-14\n",
       "603   167054           B 2019-08-29"
      ]
     },
     "metadata": {},
     "output_type": "display_data"
    },
    {
     "name": "stdout",
     "output_type": "stream",
     "text": [
      "<class 'pandas.core.frame.DataFrame'>\n",
      "RangeIndex: 732 entries, 0 to 731\n",
      "Data columns (total 3 columns):\n",
      " #   Column       Non-Null Count  Dtype         \n",
      "---  ------       --------------  -----         \n",
      " 0   user_id      732 non-null    int64         \n",
      " 1   tariff_plan  732 non-null    object        \n",
      " 2   date_start   732 non-null    datetime64[ns]\n",
      "dtypes: datetime64[ns](1), int64(1), object(1)\n",
      "memory usage: 17.3+ KB\n",
      "None\n"
     ]
    }
   ],
   "source": [
    "display(clients.sample(10))\n",
    "print(clients.info())"
   ]
  },
  {
   "cell_type": "markdown",
   "metadata": {},
   "source": [
    "We've downloaded data on clients and the main dataset, while doing this we parsed dates, this allowed us to save some space. There are no missing values in 'clients' table, there are missing values in main dataset: quite a lot of operators_id are missing, and some values in 'internal' column. Now let's start preprocessing!"
   ]
  },
  {
   "cell_type": "markdown",
   "metadata": {},
   "source": [
    "### Data preprocessing:"
   ]
  },
  {
   "cell_type": "markdown",
   "metadata": {},
   "source": [
    "<a id=\"part2_1\"></a>\n",
    "##### Duplicated rows:"
   ]
  },
  {
   "cell_type": "code",
   "execution_count": 7,
   "metadata": {},
   "outputs": [
    {
     "name": "stdout",
     "output_type": "stream",
     "text": [
      "False\n",
      "4900\n",
      "0.09090571778412675\n"
     ]
    }
   ],
   "source": [
    "#checking for duplicated rows in main dataset\n",
    "print(dataset[dataset.duplicated()].empty)\n",
    "print(dataset[dataset.duplicated()].shape[0])\n",
    "print(len(dataset[dataset.duplicated()]) / len(dataset))"
   ]
  },
  {
   "cell_type": "code",
   "execution_count": 8,
   "metadata": {},
   "outputs": [
    {
     "name": "stdout",
     "output_type": "stream",
     "text": [
      "user_id : 269\n",
      "date : 115\n",
      "direction : 2\n",
      "internal : 2\n",
      "operator_id : 776\n",
      "is_missed_call : 2\n",
      "calls_count : 178\n",
      "call_duration : 1547\n",
      "total_call_duration : 1820\n"
     ]
    }
   ],
   "source": [
    "#checking duplicated rows to find the problem\n",
    "for i in dataset[dataset.duplicated()].columns:\n",
    "    print(i, ':', dataset[dataset.duplicated()][i].nunique())"
   ]
  },
  {
   "cell_type": "code",
   "execution_count": 9,
   "metadata": {},
   "outputs": [
    {
     "name": "stdout",
     "output_type": "stream",
     "text": [
      "count                         53902\n",
      "unique                          119\n",
      "top       2019-11-25 00:00:00+03:00\n",
      "freq                           1220\n",
      "first     2019-08-02 00:00:00+03:00\n",
      "last      2019-11-28 00:00:00+03:00\n",
      "Name: date, dtype: object\n",
      "\n",
      "count                          4900\n",
      "unique                          115\n",
      "top       2019-11-18 00:00:00+03:00\n",
      "freq                            120\n",
      "first     2019-08-03 00:00:00+03:00\n",
      "last      2019-11-28 00:00:00+03:00\n",
      "Name: date, dtype: object\n"
     ]
    }
   ],
   "source": [
    "#checking the duplicates dates distribution\n",
    "print(dataset.date.describe())\n",
    "print()\n",
    "print(dataset[dataset.duplicated()].date.describe())"
   ]
  },
  {
   "cell_type": "code",
   "execution_count": 10,
   "metadata": {},
   "outputs": [
    {
     "name": "stdout",
     "output_type": "stream",
     "text": [
      "True\n"
     ]
    }
   ],
   "source": [
    "#checking for duplicates in clients table\n",
    "print(clients[clients.duplicated()].empty)"
   ]
  },
  {
   "cell_type": "code",
   "execution_count": 11,
   "metadata": {},
   "outputs": [],
   "source": [
    "#dropping duplicated rows\n",
    "dataset = dataset.drop_duplicates()"
   ]
  },
  {
   "cell_type": "markdown",
   "metadata": {},
   "source": [
    "We found out 4900 duplicated rows in the main dataset, which is about 9% of the data. While exploring, we found out that this is a general issue: we have duplicated rows for 269 users, 776 operators, 115 out of 119 dates - seems like there's a technical problem with extracting the data to the database or something close. For now we'll remove these duplicates. <br>\n",
    "Clients table is fine, there are no duplicated rows."
   ]
  },
  {
   "cell_type": "markdown",
   "metadata": {},
   "source": [
    "<a id=\"part2_2\"></a>\n",
    "##### Missing values"
   ]
  },
  {
   "cell_type": "code",
   "execution_count": 12,
   "metadata": {},
   "outputs": [
    {
     "name": "stdout",
     "output_type": "stream",
     "text": [
      "110\n",
      "0.002244806334435329\n"
     ]
    }
   ],
   "source": [
    "#checking missing values in \"internal\" column\n",
    "print(len(dataset[dataset['internal'].isna()]))\n",
    "print(len(dataset[dataset['internal'].isna()]) / len(dataset))"
   ]
  },
  {
   "cell_type": "code",
   "execution_count": 13,
   "metadata": {},
   "outputs": [],
   "source": [
    "#dropping rows with missing values in \"internal\" column\n",
    "dataset.dropna(subset=['internal'], inplace=True)"
   ]
  },
  {
   "cell_type": "code",
   "execution_count": 14,
   "metadata": {},
   "outputs": [],
   "source": [
    "#changing data type\n",
    "dataset['internal'] = dataset['internal'].astype('bool')"
   ]
  },
  {
   "cell_type": "code",
   "execution_count": 15,
   "metadata": {},
   "outputs": [
    {
     "name": "stdout",
     "output_type": "stream",
     "text": [
      "7401\n",
      "0.15137445798903706\n"
     ]
    }
   ],
   "source": [
    "#checking missing values in \"operator_id\" column\n",
    "print(len(dataset[dataset['operator_id'].isna()]))\n",
    "print(len(dataset[dataset['operator_id'].isna()]) / len(dataset))"
   ]
  },
  {
   "cell_type": "markdown",
   "metadata": {},
   "source": [
    "While checking missing values, we found out that we have 110 rows where information whether the call was internal is missed. This is only 0.2% of our data, so we'll drop these rows (this information is important for our further study). Now we aslo can change this column's data type to boolean. <br>\n",
    "We also found out that 7401 rows, or 15% of our data lack information about the operator. This information is not so critical for our study, so we'll leave it as it is.\n",
    "\n",
    "Now let's merge the two tables we have into one, extract the call date and check that our data is correct."
   ]
  },
  {
   "cell_type": "markdown",
   "metadata": {},
   "source": [
    "<a id=\"part2_3\"></a>\n",
    "##### Merging tables into one dataset"
   ]
  },
  {
   "cell_type": "code",
   "execution_count": 16,
   "metadata": {},
   "outputs": [],
   "source": [
    "#merging dataset with 'clients' table\n",
    "dataset = pd.merge(dataset, clients, on='user_id', how='left')"
   ]
  },
  {
   "cell_type": "code",
   "execution_count": 17,
   "metadata": {},
   "outputs": [
    {
     "data": {
      "text/plain": [
       "2019-11-01    21507\n",
       "2019-10-01    17146\n",
       "2019-09-01     8381\n",
       "2019-08-01     1858\n",
       "Name: call_month, dtype: int64"
      ]
     },
     "execution_count": 17,
     "metadata": {},
     "output_type": "execute_result"
    }
   ],
   "source": [
    "#extracting call date and call month to use it later for grouping\n",
    "dataset['date'] = pd.to_datetime(dataset['date'].apply(lambda x: x.date()))\n",
    "dataset['call_month'] = dataset['date'].dt.strftime('%Y-%m')\n",
    "dataset['call_month'] = dataset['call_month'].astype('datetime64[M]')\n",
    "dataset['call_month'].value_counts()"
   ]
  },
  {
   "cell_type": "code",
   "execution_count": 18,
   "metadata": {},
   "outputs": [
    {
     "data": {
      "text/plain": [
       "True"
      ]
     },
     "execution_count": 18,
     "metadata": {},
     "output_type": "execute_result"
    }
   ],
   "source": [
    "#checking that we don't have calls made before the user was registered\n",
    "dataset[dataset['date'] < dataset['date_start']].empty"
   ]
  },
  {
   "cell_type": "code",
   "execution_count": 19,
   "metadata": {},
   "outputs": [
    {
     "name": "stdout",
     "output_type": "stream",
     "text": [
      "261 307\n",
      "0.85\n"
     ]
    }
   ],
   "source": [
    "#we'll consider active users as users whose last call was made in November (month the data was retrieved)\n",
    "max_date = dataset.groupby('user_id')['date'].max().reset_index()\n",
    "active_clients_list = max_date[max_date['date'] > '2019-10-31']['user_id'].to_list()\n",
    "print(len(active_clients_list), dataset['user_id'].nunique())\n",
    "print('{:.2f}'.format((len(active_clients_list)) / (dataset['user_id'].nunique())))"
   ]
  },
  {
   "cell_type": "code",
   "execution_count": 20,
   "metadata": {},
   "outputs": [],
   "source": [
    "#adding new column with boolean values for active/non-active users\n",
    "dataset['active'] = np.where(dataset['user_id'].isin(active_clients_list), True, False)"
   ]
  },
  {
   "cell_type": "code",
   "execution_count": 21,
   "metadata": {},
   "outputs": [
    {
     "name": "stdout",
     "output_type": "stream",
     "text": [
      "<class 'pandas.core.frame.DataFrame'>\n",
      "Int64Index: 48892 entries, 0 to 48891\n",
      "Data columns (total 13 columns):\n",
      " #   Column               Non-Null Count  Dtype         \n",
      "---  ------               --------------  -----         \n",
      " 0   user_id              48892 non-null  int64         \n",
      " 1   date                 48892 non-null  datetime64[ns]\n",
      " 2   direction            48892 non-null  object        \n",
      " 3   internal             48892 non-null  bool          \n",
      " 4   operator_id          41491 non-null  float64       \n",
      " 5   is_missed_call       48892 non-null  bool          \n",
      " 6   calls_count          48892 non-null  int64         \n",
      " 7   call_duration        48892 non-null  int64         \n",
      " 8   total_call_duration  48892 non-null  int64         \n",
      " 9   tariff_plan          48892 non-null  object        \n",
      " 10  date_start           48892 non-null  datetime64[ns]\n",
      " 11  call_month           48892 non-null  datetime64[ns]\n",
      " 12  active               48892 non-null  bool          \n",
      "dtypes: bool(3), datetime64[ns](3), float64(1), int64(4), object(2)\n",
      "memory usage: 4.2+ MB\n"
     ]
    },
    {
     "data": {
      "text/html": [
       "<div>\n",
       "<style scoped>\n",
       "    .dataframe tbody tr th:only-of-type {\n",
       "        vertical-align: middle;\n",
       "    }\n",
       "\n",
       "    .dataframe tbody tr th {\n",
       "        vertical-align: top;\n",
       "    }\n",
       "\n",
       "    .dataframe thead th {\n",
       "        text-align: right;\n",
       "    }\n",
       "</style>\n",
       "<table border=\"1\" class=\"dataframe\">\n",
       "  <thead>\n",
       "    <tr style=\"text-align: right;\">\n",
       "      <th></th>\n",
       "      <th>user_id</th>\n",
       "      <th>date</th>\n",
       "      <th>direction</th>\n",
       "      <th>internal</th>\n",
       "      <th>operator_id</th>\n",
       "      <th>is_missed_call</th>\n",
       "      <th>calls_count</th>\n",
       "      <th>call_duration</th>\n",
       "      <th>total_call_duration</th>\n",
       "      <th>tariff_plan</th>\n",
       "      <th>date_start</th>\n",
       "      <th>call_month</th>\n",
       "      <th>active</th>\n",
       "    </tr>\n",
       "  </thead>\n",
       "  <tbody>\n",
       "    <tr>\n",
       "      <th>10358</th>\n",
       "      <td>166691</td>\n",
       "      <td>2019-10-30</td>\n",
       "      <td>out</td>\n",
       "      <td>False</td>\n",
       "      <td>889410.0</td>\n",
       "      <td>False</td>\n",
       "      <td>10</td>\n",
       "      <td>293</td>\n",
       "      <td>472</td>\n",
       "      <td>C</td>\n",
       "      <td>2019-08-15</td>\n",
       "      <td>2019-10-01</td>\n",
       "      <td>True</td>\n",
       "    </tr>\n",
       "    <tr>\n",
       "      <th>41099</th>\n",
       "      <td>168062</td>\n",
       "      <td>2019-11-21</td>\n",
       "      <td>out</td>\n",
       "      <td>False</td>\n",
       "      <td>947616.0</td>\n",
       "      <td>False</td>\n",
       "      <td>48</td>\n",
       "      <td>1376</td>\n",
       "      <td>1921</td>\n",
       "      <td>A</td>\n",
       "      <td>2019-10-11</td>\n",
       "      <td>2019-11-01</td>\n",
       "      <td>True</td>\n",
       "    </tr>\n",
       "    <tr>\n",
       "      <th>618</th>\n",
       "      <td>166392</td>\n",
       "      <td>2019-11-18</td>\n",
       "      <td>in</td>\n",
       "      <td>False</td>\n",
       "      <td>891906.0</td>\n",
       "      <td>False</td>\n",
       "      <td>4</td>\n",
       "      <td>806</td>\n",
       "      <td>912</td>\n",
       "      <td>C</td>\n",
       "      <td>2019-08-01</td>\n",
       "      <td>2019-11-01</td>\n",
       "      <td>True</td>\n",
       "    </tr>\n",
       "    <tr>\n",
       "      <th>24606</th>\n",
       "      <td>167172</td>\n",
       "      <td>2019-10-30</td>\n",
       "      <td>out</td>\n",
       "      <td>False</td>\n",
       "      <td>904204.0</td>\n",
       "      <td>True</td>\n",
       "      <td>1</td>\n",
       "      <td>0</td>\n",
       "      <td>66</td>\n",
       "      <td>B</td>\n",
       "      <td>2019-09-05</td>\n",
       "      <td>2019-10-01</td>\n",
       "      <td>True</td>\n",
       "    </tr>\n",
       "    <tr>\n",
       "      <th>47565</th>\n",
       "      <td>168361</td>\n",
       "      <td>2019-11-09</td>\n",
       "      <td>out</td>\n",
       "      <td>False</td>\n",
       "      <td>945308.0</td>\n",
       "      <td>False</td>\n",
       "      <td>53</td>\n",
       "      <td>8769</td>\n",
       "      <td>9768</td>\n",
       "      <td>A</td>\n",
       "      <td>2019-10-23</td>\n",
       "      <td>2019-11-01</td>\n",
       "      <td>True</td>\n",
       "    </tr>\n",
       "  </tbody>\n",
       "</table>\n",
       "</div>"
      ],
      "text/plain": [
       "       user_id       date direction  internal  operator_id  is_missed_call  \\\n",
       "10358   166691 2019-10-30       out     False     889410.0           False   \n",
       "41099   168062 2019-11-21       out     False     947616.0           False   \n",
       "618     166392 2019-11-18        in     False     891906.0           False   \n",
       "24606   167172 2019-10-30       out     False     904204.0            True   \n",
       "47565   168361 2019-11-09       out     False     945308.0           False   \n",
       "\n",
       "       calls_count  call_duration  total_call_duration tariff_plan date_start  \\\n",
       "10358           10            293                  472           C 2019-08-15   \n",
       "41099           48           1376                 1921           A 2019-10-11   \n",
       "618              4            806                  912           C 2019-08-01   \n",
       "24606            1              0                   66           B 2019-09-05   \n",
       "47565           53           8769                 9768           A 2019-10-23   \n",
       "\n",
       "      call_month  active  \n",
       "10358 2019-10-01    True  \n",
       "41099 2019-11-01    True  \n",
       "618   2019-11-01    True  \n",
       "24606 2019-10-01    True  \n",
       "47565 2019-11-01    True  "
      ]
     },
     "execution_count": 21,
     "metadata": {},
     "output_type": "execute_result"
    }
   ],
   "source": [
    "dataset.info()\n",
    "dataset.sample(5)"
   ]
  },
  {
   "cell_type": "markdown",
   "metadata": {},
   "source": [
    "Now we have one big dataset with all the information we need for our study. We checked duplicates, missing values, changed columns' data types, extracted call month for grouping, added tariff plans. Now we're ready to start exploring."
   ]
  },
  {
   "cell_type": "markdown",
   "metadata": {},
   "source": [
    "<a id=\"part3\"></a>\n",
    "### Exploratory data analysis"
   ]
  },
  {
   "cell_type": "code",
   "execution_count": 22,
   "metadata": {},
   "outputs": [
    {
     "name": "stdout",
     "output_type": "stream",
     "text": [
      "732\n",
      "\n",
      "C    395\n",
      "B    261\n",
      "A     76\n",
      "Name: tariff_plan, dtype: int64\n",
      "\n",
      "count                     732\n",
      "unique                     73\n",
      "top       2019-09-24 00:00:00\n",
      "freq                       24\n",
      "first     2019-08-01 00:00:00\n",
      "last      2019-10-31 00:00:00\n",
      "Name: date_start, dtype: object\n"
     ]
    }
   ],
   "source": [
    "#checking values distribution in 'clients' table\n",
    "print(clients['user_id'].nunique())\n",
    "print()\n",
    "print(clients['tariff_plan'].value_counts())\n",
    "print()\n",
    "print(clients['date_start'].describe())"
   ]
  },
  {
   "cell_type": "code",
   "execution_count": 23,
   "metadata": {},
   "outputs": [
    {
     "name": "stdout",
     "output_type": "stream",
     "text": [
      "307\n",
      "\n",
      "count                   48892\n",
      "unique                    119\n",
      "top       2019-11-25 00:00:00\n",
      "freq                     1107\n",
      "first     2019-08-02 00:00:00\n",
      "last      2019-11-28 00:00:00\n",
      "Name: date, dtype: object\n",
      "\n",
      "        calls_count  call_duration  total_call_duration\n",
      "count  48892.000000   48892.000000         48892.000000\n",
      "mean      16.495214     868.088788          1158.976458\n",
      "std       63.671633    3779.549967          4456.180933\n",
      "min        1.000000       0.000000             0.000000\n",
      "25%        1.000000       0.000000            46.000000\n",
      "50%        4.000000      37.000000           210.000000\n",
      "75%       12.000000     573.000000           902.000000\n",
      "max     4817.000000  144395.000000        166155.000000\n",
      "\n",
      "out    28997\n",
      "in     19895\n",
      "Name: direction, dtype: int64\n",
      "\n",
      "False    43239\n",
      "True      5653\n",
      "Name: internal, dtype: int64\n",
      "\n",
      "False    27495\n",
      "True     21397\n",
      "Name: is_missed_call, dtype: int64\n"
     ]
    }
   ],
   "source": [
    "#checking values distribution for our dataset\n",
    "print(dataset['user_id'].nunique())\n",
    "print()\n",
    "print(dataset['date'].describe())\n",
    "print()\n",
    "print(dataset[['calls_count', 'call_duration', 'total_call_duration']].describe())\n",
    "print()\n",
    "print(dataset['direction'].value_counts())\n",
    "print()\n",
    "print(dataset['internal'].value_counts())\n",
    "print()\n",
    "print(dataset['is_missed_call'].value_counts())"
   ]
  },
  {
   "cell_type": "markdown",
   "metadata": {},
   "source": [
    "We have data on 307 unique users (signed up in period from August 1 to October 31, 2019; 261 of users (85%) were still active in November). We have data on their calls in period from August 2, 2019 to November 28, 2019. <br>\n",
    "We know that the data is retrieved once a day, so calls are grouped by 'user_id', 'date', 'operator id', 'direction', and 'internal/external' columns, which gives us three aggregated columns: 'calls_count', 'call_duration' and 'total_call_duration'. They contain: number of calls made (including missed calls); total duration of calls (excluding waiting time); and total duration of calls (including waiting time), respectively. <br>\n",
    "In 'calls_count' column we have values from 1 to 4817 calls (one call every 18 seconds, this must be someone very busy!).\n",
    "As for 'call_duration' - we see values from 0 to 144395 seconds (again, very busy clients!), and in 'total_call_duration' we see values between 0 and 166155 seconds.\n",
    "\n",
    "Now let's study calls duration to see if there's something standing out."
   ]
  },
  {
   "cell_type": "code",
   "execution_count": 24,
   "metadata": {},
   "outputs": [
    {
     "data": {
      "text/plain": [
       "True"
      ]
     },
     "execution_count": 24,
     "metadata": {},
     "output_type": "execute_result"
    }
   ],
   "source": [
    "#checking whether we have rows where \"call_duration\" is greater than \"total_call_duration\"\n",
    "dataset[dataset['call_duration'] > dataset['total_call_duration']].empty"
   ]
  },
  {
   "cell_type": "code",
   "execution_count": 25,
   "metadata": {},
   "outputs": [
    {
     "data": {
      "text/plain": [
       "count    48892.000000\n",
       "mean        66.562106\n",
       "std        125.214395\n",
       "min          0.000000\n",
       "25%          0.000000\n",
       "50%         23.775000\n",
       "75%         90.000000\n",
       "max       3550.000000\n",
       "Name: avg_call_duration, dtype: float64"
      ]
     },
     "execution_count": 25,
     "metadata": {},
     "output_type": "execute_result"
    }
   ],
   "source": [
    "#finding average call duration to see distribution\n",
    "dataset['avg_call_duration'] = dataset['call_duration'] / dataset['calls_count']\n",
    "dataset['avg_call_duration'].describe()"
   ]
  },
  {
   "cell_type": "code",
   "execution_count": 26,
   "metadata": {},
   "outputs": [
    {
     "name": "stdout",
     "output_type": "stream",
     "text": [
      "21102\n",
      "17\n"
     ]
    }
   ],
   "source": [
    "print(len(dataset[(dataset['call_duration'] == 0) & (dataset['is_missed_call'] == True)]))\n",
    "print(len(dataset[(dataset['call_duration'] == 0) & (dataset['is_missed_call'] == False)]))"
   ]
  },
  {
   "cell_type": "markdown",
   "metadata": {},
   "source": [
    "First of all, there's no mistakes and values in 'call_duration' column are always smaller than values in 'total_call_duration' column. <br>\n",
    "We divided 'call_duration' column by the number of calls to get the average call duration. Then we check the call duration distribution and we see that average call duration varies from 0 to 3550 seconds, mean duration is 66.5 seconds. We also see that more than 25% of calls have duration of 0. Let's check them separately to see whether these are missed calls. <br>\n",
    "We see from proportion (21102 missed calls, 17 accepted), that everything's ok."
   ]
  },
  {
   "cell_type": "markdown",
   "metadata": {},
   "source": [
    "<a id=\"part4\"></a>\n",
    "### Aggregating tables and calculating payment size"
   ]
  },
  {
   "cell_type": "code",
   "execution_count": 27,
   "metadata": {},
   "outputs": [
    {
     "data": {
      "text/html": [
       "<div>\n",
       "<style scoped>\n",
       "    .dataframe tbody tr th:only-of-type {\n",
       "        vertical-align: middle;\n",
       "    }\n",
       "\n",
       "    .dataframe tbody tr th {\n",
       "        vertical-align: top;\n",
       "    }\n",
       "\n",
       "    .dataframe thead th {\n",
       "        text-align: right;\n",
       "    }\n",
       "</style>\n",
       "<table border=\"1\" class=\"dataframe\">\n",
       "  <thead>\n",
       "    <tr style=\"text-align: right;\">\n",
       "      <th></th>\n",
       "      <th>user_id</th>\n",
       "      <th>call_month</th>\n",
       "      <th>internal</th>\n",
       "      <th>direction</th>\n",
       "      <th>call_duration</th>\n",
       "      <th>tariff_plan</th>\n",
       "    </tr>\n",
       "  </thead>\n",
       "  <tbody>\n",
       "    <tr>\n",
       "      <th>1684</th>\n",
       "      <td>168583</td>\n",
       "      <td>2019-11-01</td>\n",
       "      <td>False</td>\n",
       "      <td>in</td>\n",
       "      <td>15.0</td>\n",
       "      <td>B</td>\n",
       "    </tr>\n",
       "    <tr>\n",
       "      <th>1685</th>\n",
       "      <td>168598</td>\n",
       "      <td>2019-11-01</td>\n",
       "      <td>False</td>\n",
       "      <td>in</td>\n",
       "      <td>70.0</td>\n",
       "      <td>C</td>\n",
       "    </tr>\n",
       "    <tr>\n",
       "      <th>1686</th>\n",
       "      <td>168601</td>\n",
       "      <td>2019-11-01</td>\n",
       "      <td>False</td>\n",
       "      <td>in</td>\n",
       "      <td>141.0</td>\n",
       "      <td>C</td>\n",
       "    </tr>\n",
       "    <tr>\n",
       "      <th>1687</th>\n",
       "      <td>168601</td>\n",
       "      <td>2019-11-01</td>\n",
       "      <td>False</td>\n",
       "      <td>out</td>\n",
       "      <td>405.0</td>\n",
       "      <td>C</td>\n",
       "    </tr>\n",
       "    <tr>\n",
       "      <th>1688</th>\n",
       "      <td>168601</td>\n",
       "      <td>2019-11-01</td>\n",
       "      <td>True</td>\n",
       "      <td>out</td>\n",
       "      <td>0.0</td>\n",
       "      <td>C</td>\n",
       "    </tr>\n",
       "    <tr>\n",
       "      <th>1689</th>\n",
       "      <td>168603</td>\n",
       "      <td>2019-11-01</td>\n",
       "      <td>False</td>\n",
       "      <td>in</td>\n",
       "      <td>0.0</td>\n",
       "      <td>B</td>\n",
       "    </tr>\n",
       "    <tr>\n",
       "      <th>1690</th>\n",
       "      <td>168603</td>\n",
       "      <td>2019-11-01</td>\n",
       "      <td>False</td>\n",
       "      <td>out</td>\n",
       "      <td>16.0</td>\n",
       "      <td>B</td>\n",
       "    </tr>\n",
       "    <tr>\n",
       "      <th>1691</th>\n",
       "      <td>168606</td>\n",
       "      <td>2019-11-01</td>\n",
       "      <td>False</td>\n",
       "      <td>in</td>\n",
       "      <td>12.0</td>\n",
       "      <td>C</td>\n",
       "    </tr>\n",
       "    <tr>\n",
       "      <th>1692</th>\n",
       "      <td>168606</td>\n",
       "      <td>2019-11-01</td>\n",
       "      <td>False</td>\n",
       "      <td>out</td>\n",
       "      <td>14.0</td>\n",
       "      <td>C</td>\n",
       "    </tr>\n",
       "    <tr>\n",
       "      <th>1693</th>\n",
       "      <td>168606</td>\n",
       "      <td>2019-11-01</td>\n",
       "      <td>True</td>\n",
       "      <td>out</td>\n",
       "      <td>61.0</td>\n",
       "      <td>C</td>\n",
       "    </tr>\n",
       "  </tbody>\n",
       "</table>\n",
       "</div>"
      ],
      "text/plain": [
       "      user_id call_month  internal direction  call_duration tariff_plan\n",
       "1684   168583 2019-11-01     False        in           15.0           B\n",
       "1685   168598 2019-11-01     False        in           70.0           C\n",
       "1686   168601 2019-11-01     False        in          141.0           C\n",
       "1687   168601 2019-11-01     False       out          405.0           C\n",
       "1688   168601 2019-11-01      True       out            0.0           C\n",
       "1689   168603 2019-11-01     False        in            0.0           B\n",
       "1690   168603 2019-11-01     False       out           16.0           B\n",
       "1691   168606 2019-11-01     False        in           12.0           C\n",
       "1692   168606 2019-11-01     False       out           14.0           C\n",
       "1693   168606 2019-11-01      True       out           61.0           C"
      ]
     },
     "execution_count": 27,
     "metadata": {},
     "output_type": "execute_result"
    }
   ],
   "source": [
    "#adding call month to data grouping so that we can calculate payment size for each client in each month\n",
    "data = dataset.groupby(['user_id', 'call_month', 'internal', 'direction']).agg({'call_duration':'sum'}).reset_index()\n",
    "#adding tariff plans \n",
    "data = data.merge(clients[['user_id', 'tariff_plan']], on='user_id', how='left')\n",
    "#turning seconds to minutes, rounding result up\n",
    "data['call_duration'] = np.ceil(data['call_duration'] / 60)\n",
    "data.tail(10)"
   ]
  },
  {
   "cell_type": "code",
   "execution_count": 28,
   "metadata": {},
   "outputs": [
    {
     "data": {
      "text/plain": [
       "True"
      ]
     },
     "execution_count": 28,
     "metadata": {},
     "output_type": "execute_result"
    }
   ],
   "source": [
    "#checking if there are clients who exeeded the free 2000 minute limit for internal calls\n",
    "data[(data['internal'] == True) & (data['call_duration'] > 120000)].empty"
   ]
  },
  {
   "cell_type": "markdown",
   "metadata": {},
   "source": [
    "We aggregated our data by 'user_id', 'call_month', 'internal' and 'direction' columns, which allows us to calculate the monthly usage of every user.\n",
    "\n",
    "We've also found out that no clients exeeded the 2000 minutes (120000 seconds) limit of free internal calls, so in our case no one has to pay extra for internal calls; ingoing calls are free for all tariffs, so basically clients only have to pay for outgoing calls according to their tariff plan. <br>\n",
    "For every clients we would also want to see how much they would've paid if they were to use different tariff plan. This will help us identify the overpaying clients."
   ]
  },
  {
   "cell_type": "markdown",
   "metadata": {},
   "source": [
    "##### Pricing\n",
    "\n",
    "All prices are given in generic monetary units.\n",
    "\n",
    "`Basic price of plan A` — 5000 <br>\n",
    "`Basic price of plan B` — 2000 <br>\n",
    "`Basic price of plan C` — 1000 <br>\n",
    "\n",
    "`Incoming calls for all plans` — free <br>\n",
    "\n",
    "`Internal calls for all plans` — a limit of 2000 free minutes per month, beyond which:\n",
    "\n",
    "`Plan A` — 0.1 units/minute <br>\n",
    "`Plan B` — 0.15 units/minute <br>\n",
    "`Plan C` — 0.3 units/minute <br>\n",
    "\n",
    "Outgoing (not internal) calls: <br>\n",
    "`Plan A` — 0.4 units/minute <br>\n",
    "`Plan B` — 0.5 units/minute <br>\n",
    "`Plan C` — 0.7 units/minute "
   ]
  },
  {
   "cell_type": "code",
   "execution_count": 29,
   "metadata": {},
   "outputs": [],
   "source": [
    "#creating a function to calculate the payment for calls made\n",
    "def calculate_payment(row):\n",
    "    \"\"\"This function iterates over rows and calculates payment size\n",
    "    aacording to the type of call and client's tariff plan\"\"\"\n",
    "    if row['internal'] == True:\n",
    "        x = 0      #in our specific dataset no one exeeds the limit, so no one pays extra\n",
    "    elif (row['internal'] == False) & (row['direction'] == 'in'):\n",
    "        x = 0    #ingoing calls are free for all plans\n",
    "    else:\n",
    "        if row['tariff_plan'] == 'A':\n",
    "            x = row['call_duration'] * 0.4\n",
    "        elif row['tariff_plan'] == 'B':\n",
    "            x = row['call_duration'] * 0.5\n",
    "        else:\n",
    "            x = row['call_duration'] * 0.7\n",
    "    return x"
   ]
  },
  {
   "cell_type": "code",
   "execution_count": 30,
   "metadata": {},
   "outputs": [
    {
     "data": {
      "text/html": [
       "<div>\n",
       "<style scoped>\n",
       "    .dataframe tbody tr th:only-of-type {\n",
       "        vertical-align: middle;\n",
       "    }\n",
       "\n",
       "    .dataframe tbody tr th {\n",
       "        vertical-align: top;\n",
       "    }\n",
       "\n",
       "    .dataframe thead th {\n",
       "        text-align: right;\n",
       "    }\n",
       "</style>\n",
       "<table border=\"1\" class=\"dataframe\">\n",
       "  <thead>\n",
       "    <tr style=\"text-align: right;\">\n",
       "      <th></th>\n",
       "      <th>user_id</th>\n",
       "      <th>call_month</th>\n",
       "      <th>internal</th>\n",
       "      <th>direction</th>\n",
       "      <th>call_duration</th>\n",
       "      <th>tariff_plan</th>\n",
       "      <th>client_paid</th>\n",
       "    </tr>\n",
       "  </thead>\n",
       "  <tbody>\n",
       "    <tr>\n",
       "      <th>24</th>\n",
       "      <td>166399</td>\n",
       "      <td>2019-09-01</td>\n",
       "      <td>False</td>\n",
       "      <td>in</td>\n",
       "      <td>2.0</td>\n",
       "      <td>C</td>\n",
       "      <td>0.0</td>\n",
       "    </tr>\n",
       "    <tr>\n",
       "      <th>49</th>\n",
       "      <td>166407</td>\n",
       "      <td>2019-08-01</td>\n",
       "      <td>False</td>\n",
       "      <td>out</td>\n",
       "      <td>1.0</td>\n",
       "      <td>A</td>\n",
       "      <td>0.4</td>\n",
       "    </tr>\n",
       "    <tr>\n",
       "      <th>583</th>\n",
       "      <td>166946</td>\n",
       "      <td>2019-09-01</td>\n",
       "      <td>False</td>\n",
       "      <td>out</td>\n",
       "      <td>69.0</td>\n",
       "      <td>C</td>\n",
       "      <td>48.3</td>\n",
       "    </tr>\n",
       "    <tr>\n",
       "      <th>131</th>\n",
       "      <td>166511</td>\n",
       "      <td>2019-11-01</td>\n",
       "      <td>False</td>\n",
       "      <td>out</td>\n",
       "      <td>2486.0</td>\n",
       "      <td>C</td>\n",
       "      <td>1740.2</td>\n",
       "    </tr>\n",
       "    <tr>\n",
       "      <th>990</th>\n",
       "      <td>167285</td>\n",
       "      <td>2019-10-01</td>\n",
       "      <td>True</td>\n",
       "      <td>out</td>\n",
       "      <td>7.0</td>\n",
       "      <td>A</td>\n",
       "      <td>0.0</td>\n",
       "    </tr>\n",
       "  </tbody>\n",
       "</table>\n",
       "</div>"
      ],
      "text/plain": [
       "     user_id call_month  internal direction  call_duration tariff_plan  \\\n",
       "24    166399 2019-09-01     False        in            2.0           C   \n",
       "49    166407 2019-08-01     False       out            1.0           A   \n",
       "583   166946 2019-09-01     False       out           69.0           C   \n",
       "131   166511 2019-11-01     False       out         2486.0           C   \n",
       "990   167285 2019-10-01      True       out            7.0           A   \n",
       "\n",
       "     client_paid  \n",
       "24           0.0  \n",
       "49           0.4  \n",
       "583         48.3  \n",
       "131       1740.2  \n",
       "990          0.0  "
      ]
     },
     "execution_count": 30,
     "metadata": {},
     "output_type": "execute_result"
    }
   ],
   "source": [
    "data['client_paid'] = data.apply(lambda row : calculate_payment(row), axis=1) \n",
    "data.sample(5)"
   ]
  },
  {
   "cell_type": "code",
   "execution_count": 31,
   "metadata": {},
   "outputs": [],
   "source": [
    "#creating a function to calculate the potential price of calls made for each user and each tariff\n",
    "def calculate_potential_price(row, coef):\n",
    "    \"\"\"This function iterates over rows and calculates potential payment size\n",
    "    depending on the price(coefficient) of specific tariff\"\"\"\n",
    "    if row['internal'] == True:\n",
    "        x = 0    \n",
    "    elif (row['internal'] == False) & (row['direction'] == 'in'):\n",
    "        x = 0\n",
    "    else:\n",
    "        x = row['call_duration'] * coef\n",
    "    return x"
   ]
  },
  {
   "cell_type": "code",
   "execution_count": 32,
   "metadata": {},
   "outputs": [
    {
     "data": {
      "text/html": [
       "<div>\n",
       "<style scoped>\n",
       "    .dataframe tbody tr th:only-of-type {\n",
       "        vertical-align: middle;\n",
       "    }\n",
       "\n",
       "    .dataframe tbody tr th {\n",
       "        vertical-align: top;\n",
       "    }\n",
       "\n",
       "    .dataframe thead th {\n",
       "        text-align: right;\n",
       "    }\n",
       "</style>\n",
       "<table border=\"1\" class=\"dataframe\">\n",
       "  <thead>\n",
       "    <tr style=\"text-align: right;\">\n",
       "      <th></th>\n",
       "      <th>user_id</th>\n",
       "      <th>call_month</th>\n",
       "      <th>internal</th>\n",
       "      <th>direction</th>\n",
       "      <th>call_duration</th>\n",
       "      <th>tariff_plan</th>\n",
       "      <th>client_paid</th>\n",
       "      <th>if_tariff_A</th>\n",
       "      <th>if_tariff_B</th>\n",
       "      <th>if_tariff_C</th>\n",
       "    </tr>\n",
       "  </thead>\n",
       "  <tbody>\n",
       "    <tr>\n",
       "      <th>0</th>\n",
       "      <td>166377</td>\n",
       "      <td>2019-08-01</td>\n",
       "      <td>False</td>\n",
       "      <td>in</td>\n",
       "      <td>22.0</td>\n",
       "      <td>B</td>\n",
       "      <td>0.0</td>\n",
       "      <td>0.0</td>\n",
       "      <td>0.0</td>\n",
       "      <td>0.0</td>\n",
       "    </tr>\n",
       "    <tr>\n",
       "      <th>1</th>\n",
       "      <td>166377</td>\n",
       "      <td>2019-08-01</td>\n",
       "      <td>False</td>\n",
       "      <td>out</td>\n",
       "      <td>1083.0</td>\n",
       "      <td>B</td>\n",
       "      <td>541.5</td>\n",
       "      <td>433.2</td>\n",
       "      <td>541.5</td>\n",
       "      <td>758.1</td>\n",
       "    </tr>\n",
       "    <tr>\n",
       "      <th>2</th>\n",
       "      <td>166377</td>\n",
       "      <td>2019-08-01</td>\n",
       "      <td>True</td>\n",
       "      <td>out</td>\n",
       "      <td>1.0</td>\n",
       "      <td>B</td>\n",
       "      <td>0.0</td>\n",
       "      <td>0.0</td>\n",
       "      <td>0.0</td>\n",
       "      <td>0.0</td>\n",
       "    </tr>\n",
       "    <tr>\n",
       "      <th>3</th>\n",
       "      <td>166377</td>\n",
       "      <td>2019-09-01</td>\n",
       "      <td>False</td>\n",
       "      <td>in</td>\n",
       "      <td>25.0</td>\n",
       "      <td>B</td>\n",
       "      <td>0.0</td>\n",
       "      <td>0.0</td>\n",
       "      <td>0.0</td>\n",
       "      <td>0.0</td>\n",
       "    </tr>\n",
       "    <tr>\n",
       "      <th>4</th>\n",
       "      <td>166377</td>\n",
       "      <td>2019-09-01</td>\n",
       "      <td>False</td>\n",
       "      <td>out</td>\n",
       "      <td>1427.0</td>\n",
       "      <td>B</td>\n",
       "      <td>713.5</td>\n",
       "      <td>570.8</td>\n",
       "      <td>713.5</td>\n",
       "      <td>998.9</td>\n",
       "    </tr>\n",
       "  </tbody>\n",
       "</table>\n",
       "</div>"
      ],
      "text/plain": [
       "   user_id call_month  internal direction  call_duration tariff_plan  \\\n",
       "0   166377 2019-08-01     False        in           22.0           B   \n",
       "1   166377 2019-08-01     False       out         1083.0           B   \n",
       "2   166377 2019-08-01      True       out            1.0           B   \n",
       "3   166377 2019-09-01     False        in           25.0           B   \n",
       "4   166377 2019-09-01     False       out         1427.0           B   \n",
       "\n",
       "   client_paid  if_tariff_A  if_tariff_B  if_tariff_C  \n",
       "0          0.0          0.0          0.0          0.0  \n",
       "1        541.5        433.2        541.5        758.1  \n",
       "2          0.0          0.0          0.0          0.0  \n",
       "3          0.0          0.0          0.0          0.0  \n",
       "4        713.5        570.8        713.5        998.9  "
      ]
     },
     "execution_count": 32,
     "metadata": {},
     "output_type": "execute_result"
    }
   ],
   "source": [
    "#applying our function to calculate potential price for each user and each tariff\n",
    "data['if_tariff_A'] = data.apply(lambda row : calculate_potential_price(row, 0.4), axis=1)\n",
    "data['if_tariff_B'] = data.apply(lambda row : calculate_potential_price(row, 0.5), axis=1)\n",
    "data['if_tariff_C'] = data.apply(lambda row : calculate_potential_price(row, 0.7), axis=1)\n",
    "data.head(5)"
   ]
  },
  {
   "cell_type": "markdown",
   "metadata": {},
   "source": [
    "Now we can group the data by user and month to add the basic price and calculate the final payment size for each client and each month."
   ]
  },
  {
   "cell_type": "code",
   "execution_count": 33,
   "metadata": {},
   "outputs": [],
   "source": [
    "#aggregating our table once again to calculate monthly payment\n",
    "data = data.groupby(['user_id', 'call_month']).agg(\n",
    "    {'client_paid':'sum', 'if_tariff_A':'sum', 'if_tariff_B':'sum', 'if_tariff_C':'sum'}).reset_index()\n",
    "data = data.merge(clients, on='user_id', how='left')"
   ]
  },
  {
   "cell_type": "code",
   "execution_count": 34,
   "metadata": {},
   "outputs": [
    {
     "data": {
      "text/html": [
       "<div>\n",
       "<style scoped>\n",
       "    .dataframe tbody tr th:only-of-type {\n",
       "        vertical-align: middle;\n",
       "    }\n",
       "\n",
       "    .dataframe tbody tr th {\n",
       "        vertical-align: top;\n",
       "    }\n",
       "\n",
       "    .dataframe thead th {\n",
       "        text-align: right;\n",
       "    }\n",
       "</style>\n",
       "<table border=\"1\" class=\"dataframe\">\n",
       "  <thead>\n",
       "    <tr style=\"text-align: right;\">\n",
       "      <th></th>\n",
       "      <th>user_id</th>\n",
       "      <th>call_month</th>\n",
       "      <th>client_paid</th>\n",
       "      <th>if_tariff_A</th>\n",
       "      <th>if_tariff_B</th>\n",
       "      <th>if_tariff_C</th>\n",
       "      <th>tariff_plan</th>\n",
       "      <th>date_start</th>\n",
       "    </tr>\n",
       "  </thead>\n",
       "  <tbody>\n",
       "    <tr>\n",
       "      <th>0</th>\n",
       "      <td>166377</td>\n",
       "      <td>2019-08-01</td>\n",
       "      <td>541.5</td>\n",
       "      <td>433.2</td>\n",
       "      <td>541.5</td>\n",
       "      <td>758.1</td>\n",
       "      <td>B</td>\n",
       "      <td>2019-08-01</td>\n",
       "    </tr>\n",
       "    <tr>\n",
       "      <th>1</th>\n",
       "      <td>166377</td>\n",
       "      <td>2019-09-01</td>\n",
       "      <td>713.5</td>\n",
       "      <td>570.8</td>\n",
       "      <td>713.5</td>\n",
       "      <td>998.9</td>\n",
       "      <td>B</td>\n",
       "      <td>2019-08-01</td>\n",
       "    </tr>\n",
       "    <tr>\n",
       "      <th>2</th>\n",
       "      <td>166377</td>\n",
       "      <td>2019-10-01</td>\n",
       "      <td>680.0</td>\n",
       "      <td>544.0</td>\n",
       "      <td>680.0</td>\n",
       "      <td>952.0</td>\n",
       "      <td>B</td>\n",
       "      <td>2019-08-01</td>\n",
       "    </tr>\n",
       "    <tr>\n",
       "      <th>3</th>\n",
       "      <td>166377</td>\n",
       "      <td>2019-11-01</td>\n",
       "      <td>652.5</td>\n",
       "      <td>522.0</td>\n",
       "      <td>652.5</td>\n",
       "      <td>913.5</td>\n",
       "      <td>B</td>\n",
       "      <td>2019-08-01</td>\n",
       "    </tr>\n",
       "    <tr>\n",
       "      <th>4</th>\n",
       "      <td>166391</td>\n",
       "      <td>2019-08-01</td>\n",
       "      <td>0.0</td>\n",
       "      <td>0.0</td>\n",
       "      <td>0.0</td>\n",
       "      <td>0.0</td>\n",
       "      <td>C</td>\n",
       "      <td>2019-08-01</td>\n",
       "    </tr>\n",
       "  </tbody>\n",
       "</table>\n",
       "</div>"
      ],
      "text/plain": [
       "   user_id call_month  client_paid  if_tariff_A  if_tariff_B  if_tariff_C  \\\n",
       "0   166377 2019-08-01        541.5        433.2        541.5        758.1   \n",
       "1   166377 2019-09-01        713.5        570.8        713.5        998.9   \n",
       "2   166377 2019-10-01        680.0        544.0        680.0        952.0   \n",
       "3   166377 2019-11-01        652.5        522.0        652.5        913.5   \n",
       "4   166391 2019-08-01          0.0          0.0          0.0          0.0   \n",
       "\n",
       "  tariff_plan date_start  \n",
       "0           B 2019-08-01  \n",
       "1           B 2019-08-01  \n",
       "2           B 2019-08-01  \n",
       "3           B 2019-08-01  \n",
       "4           C 2019-08-01  "
      ]
     },
     "execution_count": 34,
     "metadata": {},
     "output_type": "execute_result"
    }
   ],
   "source": [
    "data.head(5)"
   ]
  },
  {
   "cell_type": "code",
   "execution_count": 35,
   "metadata": {},
   "outputs": [],
   "source": [
    "#calculating the delta between call month and sign-up date\n",
    "data['difference'] = data['call_month'] - data['date_start']\n",
    "data['difference'] = data['difference'].astype('timedelta64[D]')"
   ]
  },
  {
   "cell_type": "code",
   "execution_count": 36,
   "metadata": {},
   "outputs": [],
   "source": [
    "#calculating coefficient, for positive delta it would be 1\n",
    "data['coef'] = np.where(data['difference'] < 0, ((1 / 31) * (31 + (data['difference']))).round(2), 1)"
   ]
  },
  {
   "cell_type": "code",
   "execution_count": 37,
   "metadata": {},
   "outputs": [],
   "source": [
    "#defining and applying function to calculate the final payment size (actual payment)\n",
    "def final_payment_size(row):\n",
    "    \"\"\"This function iterates over rows and adds basic price to every client's payment\"\"\"\n",
    "    if row['tariff_plan'] == 'A':\n",
    "        x = row['client_paid'] + (5000 * row['coef'])\n",
    "    elif row['tariff_plan'] == 'B':\n",
    "        x = row['client_paid'] + (2000 * row['coef'])\n",
    "    else:\n",
    "        x = row['client_paid'] + (1000 * row['coef'])\n",
    "    return x\n",
    "\n",
    "data['client_paid'] = data.apply(lambda row : final_payment_size(row), axis=1)"
   ]
  },
  {
   "cell_type": "code",
   "execution_count": 38,
   "metadata": {},
   "outputs": [],
   "source": [
    "#adding basic plan cost to our potential payment columns\n",
    "data['if_tariff_A'] = data['if_tariff_A'] + (5000 * data['coef'])\n",
    "data['if_tariff_B'] = data['if_tariff_B'] + (2000 * data['coef'])\n",
    "data['if_tariff_C'] = data['if_tariff_C'] + (1000 * data['coef'])"
   ]
  },
  {
   "cell_type": "code",
   "execution_count": 39,
   "metadata": {},
   "outputs": [
    {
     "data": {
      "text/html": [
       "<div>\n",
       "<style scoped>\n",
       "    .dataframe tbody tr th:only-of-type {\n",
       "        vertical-align: middle;\n",
       "    }\n",
       "\n",
       "    .dataframe tbody tr th {\n",
       "        vertical-align: top;\n",
       "    }\n",
       "\n",
       "    .dataframe thead th {\n",
       "        text-align: right;\n",
       "    }\n",
       "</style>\n",
       "<table border=\"1\" class=\"dataframe\">\n",
       "  <thead>\n",
       "    <tr style=\"text-align: right;\">\n",
       "      <th></th>\n",
       "      <th>user_id</th>\n",
       "      <th>call_month</th>\n",
       "      <th>client_paid</th>\n",
       "      <th>if_tariff_A</th>\n",
       "      <th>if_tariff_B</th>\n",
       "      <th>if_tariff_C</th>\n",
       "      <th>tariff_plan</th>\n",
       "      <th>date_start</th>\n",
       "      <th>difference</th>\n",
       "      <th>coef</th>\n",
       "    </tr>\n",
       "  </thead>\n",
       "  <tbody>\n",
       "    <tr>\n",
       "      <th>15</th>\n",
       "      <td>166405</td>\n",
       "      <td>2019-08-01</td>\n",
       "      <td>2307.0</td>\n",
       "      <td>5143.6</td>\n",
       "      <td>2307.0</td>\n",
       "      <td>1483.8</td>\n",
       "      <td>B</td>\n",
       "      <td>2019-08-02</td>\n",
       "      <td>-1.0</td>\n",
       "      <td>0.97</td>\n",
       "    </tr>\n",
       "    <tr>\n",
       "      <th>19</th>\n",
       "      <td>166406</td>\n",
       "      <td>2019-08-01</td>\n",
       "      <td>3009.5</td>\n",
       "      <td>5705.6</td>\n",
       "      <td>3009.5</td>\n",
       "      <td>2467.3</td>\n",
       "      <td>B</td>\n",
       "      <td>2019-08-02</td>\n",
       "      <td>-1.0</td>\n",
       "      <td>0.97</td>\n",
       "    </tr>\n",
       "    <tr>\n",
       "      <th>23</th>\n",
       "      <td>166407</td>\n",
       "      <td>2019-08-01</td>\n",
       "      <td>4850.4</td>\n",
       "      <td>4850.4</td>\n",
       "      <td>1940.5</td>\n",
       "      <td>970.7</td>\n",
       "      <td>A</td>\n",
       "      <td>2019-08-02</td>\n",
       "      <td>-1.0</td>\n",
       "      <td>0.97</td>\n",
       "    </tr>\n",
       "    <tr>\n",
       "      <th>27</th>\n",
       "      <td>166428</td>\n",
       "      <td>2019-08-01</td>\n",
       "      <td>1940.0</td>\n",
       "      <td>4850.0</td>\n",
       "      <td>1940.0</td>\n",
       "      <td>970.0</td>\n",
       "      <td>B</td>\n",
       "      <td>2019-08-02</td>\n",
       "      <td>-1.0</td>\n",
       "      <td>0.97</td>\n",
       "    </tr>\n",
       "    <tr>\n",
       "      <th>31</th>\n",
       "      <td>166481</td>\n",
       "      <td>2019-08-01</td>\n",
       "      <td>4350.0</td>\n",
       "      <td>4350.0</td>\n",
       "      <td>1740.0</td>\n",
       "      <td>870.0</td>\n",
       "      <td>A</td>\n",
       "      <td>2019-08-05</td>\n",
       "      <td>-4.0</td>\n",
       "      <td>0.87</td>\n",
       "    </tr>\n",
       "    <tr>\n",
       "      <th>...</th>\n",
       "      <td>...</td>\n",
       "      <td>...</td>\n",
       "      <td>...</td>\n",
       "      <td>...</td>\n",
       "      <td>...</td>\n",
       "      <td>...</td>\n",
       "      <td>...</td>\n",
       "      <td>...</td>\n",
       "      <td>...</td>\n",
       "      <td>...</td>\n",
       "    </tr>\n",
       "    <tr>\n",
       "      <th>773</th>\n",
       "      <td>168473</td>\n",
       "      <td>2019-10-01</td>\n",
       "      <td>130.0</td>\n",
       "      <td>650.0</td>\n",
       "      <td>260.0</td>\n",
       "      <td>130.0</td>\n",
       "      <td>C</td>\n",
       "      <td>2019-10-28</td>\n",
       "      <td>-27.0</td>\n",
       "      <td>0.13</td>\n",
       "    </tr>\n",
       "    <tr>\n",
       "      <th>777</th>\n",
       "      <td>168500</td>\n",
       "      <td>2019-10-01</td>\n",
       "      <td>260.0</td>\n",
       "      <td>650.0</td>\n",
       "      <td>260.0</td>\n",
       "      <td>130.0</td>\n",
       "      <td>B</td>\n",
       "      <td>2019-10-28</td>\n",
       "      <td>-27.0</td>\n",
       "      <td>0.13</td>\n",
       "    </tr>\n",
       "    <tr>\n",
       "      <th>779</th>\n",
       "      <td>168522</td>\n",
       "      <td>2019-10-01</td>\n",
       "      <td>100.0</td>\n",
       "      <td>500.0</td>\n",
       "      <td>200.0</td>\n",
       "      <td>100.0</td>\n",
       "      <td>C</td>\n",
       "      <td>2019-10-29</td>\n",
       "      <td>-28.0</td>\n",
       "      <td>0.10</td>\n",
       "    </tr>\n",
       "    <tr>\n",
       "      <th>782</th>\n",
       "      <td>168575</td>\n",
       "      <td>2019-10-01</td>\n",
       "      <td>30.0</td>\n",
       "      <td>150.0</td>\n",
       "      <td>60.0</td>\n",
       "      <td>30.0</td>\n",
       "      <td>C</td>\n",
       "      <td>2019-10-31</td>\n",
       "      <td>-30.0</td>\n",
       "      <td>0.03</td>\n",
       "    </tr>\n",
       "    <tr>\n",
       "      <th>786</th>\n",
       "      <td>168583</td>\n",
       "      <td>2019-10-01</td>\n",
       "      <td>60.0</td>\n",
       "      <td>150.0</td>\n",
       "      <td>60.0</td>\n",
       "      <td>30.0</td>\n",
       "      <td>B</td>\n",
       "      <td>2019-10-31</td>\n",
       "      <td>-30.0</td>\n",
       "      <td>0.03</td>\n",
       "    </tr>\n",
       "  </tbody>\n",
       "</table>\n",
       "<p>245 rows × 10 columns</p>\n",
       "</div>"
      ],
      "text/plain": [
       "     user_id call_month  client_paid  if_tariff_A  if_tariff_B  if_tariff_C  \\\n",
       "15    166405 2019-08-01       2307.0       5143.6       2307.0       1483.8   \n",
       "19    166406 2019-08-01       3009.5       5705.6       3009.5       2467.3   \n",
       "23    166407 2019-08-01       4850.4       4850.4       1940.5        970.7   \n",
       "27    166428 2019-08-01       1940.0       4850.0       1940.0        970.0   \n",
       "31    166481 2019-08-01       4350.0       4350.0       1740.0        870.0   \n",
       "..       ...        ...          ...          ...          ...          ...   \n",
       "773   168473 2019-10-01        130.0        650.0        260.0        130.0   \n",
       "777   168500 2019-10-01        260.0        650.0        260.0        130.0   \n",
       "779   168522 2019-10-01        100.0        500.0        200.0        100.0   \n",
       "782   168575 2019-10-01         30.0        150.0         60.0         30.0   \n",
       "786   168583 2019-10-01         60.0        150.0         60.0         30.0   \n",
       "\n",
       "    tariff_plan date_start  difference  coef  \n",
       "15            B 2019-08-02        -1.0  0.97  \n",
       "19            B 2019-08-02        -1.0  0.97  \n",
       "23            A 2019-08-02        -1.0  0.97  \n",
       "27            B 2019-08-02        -1.0  0.97  \n",
       "31            A 2019-08-05        -4.0  0.87  \n",
       "..          ...        ...         ...   ...  \n",
       "773           C 2019-10-28       -27.0  0.13  \n",
       "777           B 2019-10-28       -27.0  0.13  \n",
       "779           C 2019-10-29       -28.0  0.10  \n",
       "782           C 2019-10-31       -30.0  0.03  \n",
       "786           B 2019-10-31       -30.0  0.03  \n",
       "\n",
       "[245 rows x 10 columns]"
      ]
     },
     "execution_count": 39,
     "metadata": {},
     "output_type": "execute_result"
    }
   ],
   "source": [
    "#checking the result just to see that it works\n",
    "data[data['coef'] < 1]"
   ]
  },
  {
   "cell_type": "code",
   "execution_count": 40,
   "metadata": {},
   "outputs": [],
   "source": [
    "#extracting only outgoing external calls duration to add it to the table\n",
    "outgoing_calls = dataset[(dataset['internal'] == False) & (dataset['direction'] == 'out')]\n",
    "outgoing_calls_duration = outgoing_calls.groupby(['user_id', 'call_month']).agg({'call_duration':'sum'}).reset_index()\n",
    "outgoing_calls_duration['call_duration'] = np.ceil(outgoing_calls_duration['call_duration'] / 60)\n",
    "\n",
    "data = pd.merge(data, outgoing_calls_duration,  how='left', on=['user_id','call_month'])\n",
    "data['call_duration'] = data['call_duration'].fillna(value=0)"
   ]
  },
  {
   "cell_type": "code",
   "execution_count": 41,
   "metadata": {},
   "outputs": [
    {
     "data": {
      "text/html": [
       "<div>\n",
       "<style scoped>\n",
       "    .dataframe tbody tr th:only-of-type {\n",
       "        vertical-align: middle;\n",
       "    }\n",
       "\n",
       "    .dataframe tbody tr th {\n",
       "        vertical-align: top;\n",
       "    }\n",
       "\n",
       "    .dataframe thead th {\n",
       "        text-align: right;\n",
       "    }\n",
       "</style>\n",
       "<table border=\"1\" class=\"dataframe\">\n",
       "  <thead>\n",
       "    <tr style=\"text-align: right;\">\n",
       "      <th></th>\n",
       "      <th>user_id</th>\n",
       "      <th>call_month</th>\n",
       "      <th>client_paid</th>\n",
       "      <th>if_tariff_A</th>\n",
       "      <th>if_tariff_B</th>\n",
       "      <th>if_tariff_C</th>\n",
       "      <th>tariff_plan</th>\n",
       "      <th>date_start</th>\n",
       "      <th>difference</th>\n",
       "      <th>coef</th>\n",
       "      <th>call_duration</th>\n",
       "    </tr>\n",
       "  </thead>\n",
       "  <tbody>\n",
       "    <tr>\n",
       "      <th>0</th>\n",
       "      <td>166377</td>\n",
       "      <td>2019-08-01</td>\n",
       "      <td>2541.5</td>\n",
       "      <td>5433.2</td>\n",
       "      <td>2541.5</td>\n",
       "      <td>1758.1</td>\n",
       "      <td>B</td>\n",
       "      <td>2019-08-01</td>\n",
       "      <td>0.0</td>\n",
       "      <td>1.0</td>\n",
       "      <td>1083.0</td>\n",
       "    </tr>\n",
       "    <tr>\n",
       "      <th>1</th>\n",
       "      <td>166377</td>\n",
       "      <td>2019-09-01</td>\n",
       "      <td>2713.5</td>\n",
       "      <td>5570.8</td>\n",
       "      <td>2713.5</td>\n",
       "      <td>1998.9</td>\n",
       "      <td>B</td>\n",
       "      <td>2019-08-01</td>\n",
       "      <td>31.0</td>\n",
       "      <td>1.0</td>\n",
       "      <td>1427.0</td>\n",
       "    </tr>\n",
       "    <tr>\n",
       "      <th>2</th>\n",
       "      <td>166377</td>\n",
       "      <td>2019-10-01</td>\n",
       "      <td>2680.0</td>\n",
       "      <td>5544.0</td>\n",
       "      <td>2680.0</td>\n",
       "      <td>1952.0</td>\n",
       "      <td>B</td>\n",
       "      <td>2019-08-01</td>\n",
       "      <td>61.0</td>\n",
       "      <td>1.0</td>\n",
       "      <td>1360.0</td>\n",
       "    </tr>\n",
       "    <tr>\n",
       "      <th>3</th>\n",
       "      <td>166377</td>\n",
       "      <td>2019-11-01</td>\n",
       "      <td>2652.5</td>\n",
       "      <td>5522.0</td>\n",
       "      <td>2652.5</td>\n",
       "      <td>1913.5</td>\n",
       "      <td>B</td>\n",
       "      <td>2019-08-01</td>\n",
       "      <td>92.0</td>\n",
       "      <td>1.0</td>\n",
       "      <td>1305.0</td>\n",
       "    </tr>\n",
       "    <tr>\n",
       "      <th>4</th>\n",
       "      <td>166391</td>\n",
       "      <td>2019-08-01</td>\n",
       "      <td>1000.0</td>\n",
       "      <td>5000.0</td>\n",
       "      <td>2000.0</td>\n",
       "      <td>1000.0</td>\n",
       "      <td>C</td>\n",
       "      <td>2019-08-01</td>\n",
       "      <td>0.0</td>\n",
       "      <td>1.0</td>\n",
       "      <td>0.0</td>\n",
       "    </tr>\n",
       "    <tr>\n",
       "      <th>5</th>\n",
       "      <td>166391</td>\n",
       "      <td>2019-09-01</td>\n",
       "      <td>1000.0</td>\n",
       "      <td>5000.0</td>\n",
       "      <td>2000.0</td>\n",
       "      <td>1000.0</td>\n",
       "      <td>C</td>\n",
       "      <td>2019-08-01</td>\n",
       "      <td>31.0</td>\n",
       "      <td>1.0</td>\n",
       "      <td>0.0</td>\n",
       "    </tr>\n",
       "    <tr>\n",
       "      <th>6</th>\n",
       "      <td>166391</td>\n",
       "      <td>2019-10-01</td>\n",
       "      <td>1000.0</td>\n",
       "      <td>5000.0</td>\n",
       "      <td>2000.0</td>\n",
       "      <td>1000.0</td>\n",
       "      <td>C</td>\n",
       "      <td>2019-08-01</td>\n",
       "      <td>61.0</td>\n",
       "      <td>1.0</td>\n",
       "      <td>0.0</td>\n",
       "    </tr>\n",
       "    <tr>\n",
       "      <th>7</th>\n",
       "      <td>166391</td>\n",
       "      <td>2019-11-01</td>\n",
       "      <td>1000.0</td>\n",
       "      <td>5000.0</td>\n",
       "      <td>2000.0</td>\n",
       "      <td>1000.0</td>\n",
       "      <td>C</td>\n",
       "      <td>2019-08-01</td>\n",
       "      <td>92.0</td>\n",
       "      <td>1.0</td>\n",
       "      <td>0.0</td>\n",
       "    </tr>\n",
       "    <tr>\n",
       "      <th>8</th>\n",
       "      <td>166392</td>\n",
       "      <td>2019-08-01</td>\n",
       "      <td>1000.0</td>\n",
       "      <td>5000.0</td>\n",
       "      <td>2000.0</td>\n",
       "      <td>1000.0</td>\n",
       "      <td>C</td>\n",
       "      <td>2019-08-01</td>\n",
       "      <td>0.0</td>\n",
       "      <td>1.0</td>\n",
       "      <td>0.0</td>\n",
       "    </tr>\n",
       "    <tr>\n",
       "      <th>9</th>\n",
       "      <td>166392</td>\n",
       "      <td>2019-09-01</td>\n",
       "      <td>1000.0</td>\n",
       "      <td>5000.0</td>\n",
       "      <td>2000.0</td>\n",
       "      <td>1000.0</td>\n",
       "      <td>C</td>\n",
       "      <td>2019-08-01</td>\n",
       "      <td>31.0</td>\n",
       "      <td>1.0</td>\n",
       "      <td>0.0</td>\n",
       "    </tr>\n",
       "  </tbody>\n",
       "</table>\n",
       "</div>"
      ],
      "text/plain": [
       "   user_id call_month  client_paid  if_tariff_A  if_tariff_B  if_tariff_C  \\\n",
       "0   166377 2019-08-01       2541.5       5433.2       2541.5       1758.1   \n",
       "1   166377 2019-09-01       2713.5       5570.8       2713.5       1998.9   \n",
       "2   166377 2019-10-01       2680.0       5544.0       2680.0       1952.0   \n",
       "3   166377 2019-11-01       2652.5       5522.0       2652.5       1913.5   \n",
       "4   166391 2019-08-01       1000.0       5000.0       2000.0       1000.0   \n",
       "5   166391 2019-09-01       1000.0       5000.0       2000.0       1000.0   \n",
       "6   166391 2019-10-01       1000.0       5000.0       2000.0       1000.0   \n",
       "7   166391 2019-11-01       1000.0       5000.0       2000.0       1000.0   \n",
       "8   166392 2019-08-01       1000.0       5000.0       2000.0       1000.0   \n",
       "9   166392 2019-09-01       1000.0       5000.0       2000.0       1000.0   \n",
       "\n",
       "  tariff_plan date_start  difference  coef  call_duration  \n",
       "0           B 2019-08-01         0.0   1.0         1083.0  \n",
       "1           B 2019-08-01        31.0   1.0         1427.0  \n",
       "2           B 2019-08-01        61.0   1.0         1360.0  \n",
       "3           B 2019-08-01        92.0   1.0         1305.0  \n",
       "4           C 2019-08-01         0.0   1.0            0.0  \n",
       "5           C 2019-08-01        31.0   1.0            0.0  \n",
       "6           C 2019-08-01        61.0   1.0            0.0  \n",
       "7           C 2019-08-01        92.0   1.0            0.0  \n",
       "8           C 2019-08-01         0.0   1.0            0.0  \n",
       "9           C 2019-08-01        31.0   1.0            0.0  "
      ]
     },
     "execution_count": 41,
     "metadata": {},
     "output_type": "execute_result"
    }
   ],
   "source": [
    "data.head(10)"
   ]
  },
  {
   "cell_type": "markdown",
   "metadata": {},
   "source": [
    "We've got the aggregated table with monthly payment of each user and their external outgoing call duration. We added potential payment columns, so we can see how much each client would've paid if he was to use different tariff plan.<br>\n",
    "Now we can check call duration distribution."
   ]
  },
  {
   "cell_type": "code",
   "execution_count": 42,
   "metadata": {},
   "outputs": [
    {
     "name": "stdout",
     "output_type": "stream",
     "text": [
      "968.7999999999997\n",
      "2150.699999999998\n",
      "5524.199999999978\n",
      "9595.800000000023\n"
     ]
    }
   ],
   "source": [
    "#calculating percentiles for call duration to define outliers\n",
    "print(np.percentile(data['call_duration'], 90))\n",
    "print(np.percentile(data['call_duration'], 95))\n",
    "print(np.percentile(data['call_duration'], 98))\n",
    "print(np.percentile(data['call_duration'], 99))"
   ]
  },
  {
   "cell_type": "code",
   "execution_count": 44,
   "metadata": {},
   "outputs": [
    {
     "data": {
      "text/html": [
       "<div>\n",
       "<style scoped>\n",
       "    .dataframe tbody tr th:only-of-type {\n",
       "        vertical-align: middle;\n",
       "    }\n",
       "\n",
       "    .dataframe tbody tr th {\n",
       "        vertical-align: top;\n",
       "    }\n",
       "\n",
       "    .dataframe thead th {\n",
       "        text-align: right;\n",
       "    }\n",
       "</style>\n",
       "<table border=\"1\" class=\"dataframe\">\n",
       "  <thead>\n",
       "    <tr style=\"text-align: right;\">\n",
       "      <th></th>\n",
       "      <th>count</th>\n",
       "      <th>mean</th>\n",
       "      <th>std</th>\n",
       "      <th>min</th>\n",
       "      <th>25%</th>\n",
       "      <th>50%</th>\n",
       "      <th>75%</th>\n",
       "      <th>max</th>\n",
       "    </tr>\n",
       "    <tr>\n",
       "      <th>tariff_plan</th>\n",
       "      <th></th>\n",
       "      <th></th>\n",
       "      <th></th>\n",
       "      <th></th>\n",
       "      <th></th>\n",
       "      <th></th>\n",
       "      <th></th>\n",
       "      <th></th>\n",
       "    </tr>\n",
       "  </thead>\n",
       "  <tbody>\n",
       "    <tr>\n",
       "      <th>A</th>\n",
       "      <td>93.0</td>\n",
       "      <td>3281.408602</td>\n",
       "      <td>10959.384291</td>\n",
       "      <td>0.0</td>\n",
       "      <td>0.0</td>\n",
       "      <td>39.0</td>\n",
       "      <td>385.0</td>\n",
       "      <td>60724.0</td>\n",
       "    </tr>\n",
       "    <tr>\n",
       "      <th>B</th>\n",
       "      <td>289.0</td>\n",
       "      <td>397.020761</td>\n",
       "      <td>1162.223471</td>\n",
       "      <td>0.0</td>\n",
       "      <td>0.0</td>\n",
       "      <td>31.0</td>\n",
       "      <td>263.0</td>\n",
       "      <td>10251.0</td>\n",
       "    </tr>\n",
       "    <tr>\n",
       "      <th>C</th>\n",
       "      <td>410.0</td>\n",
       "      <td>280.082927</td>\n",
       "      <td>859.097475</td>\n",
       "      <td>0.0</td>\n",
       "      <td>0.0</td>\n",
       "      <td>1.0</td>\n",
       "      <td>114.0</td>\n",
       "      <td>7628.0</td>\n",
       "    </tr>\n",
       "  </tbody>\n",
       "</table>\n",
       "</div>"
      ],
      "text/plain": [
       "             count         mean           std  min  25%   50%    75%      max\n",
       "tariff_plan                                                                  \n",
       "A             93.0  3281.408602  10959.384291  0.0  0.0  39.0  385.0  60724.0\n",
       "B            289.0   397.020761   1162.223471  0.0  0.0  31.0  263.0  10251.0\n",
       "C            410.0   280.082927    859.097475  0.0  0.0   1.0  114.0   7628.0"
      ]
     },
     "execution_count": 44,
     "metadata": {},
     "output_type": "execute_result"
    }
   ],
   "source": [
    "#call duration distribution for different tariff users\n",
    "data.groupby(['tariff_plan'])['call_duration'].describe()"
   ]
  },
  {
   "cell_type": "markdown",
   "metadata": {},
   "source": [
    "What about outgoing external call duration distribution? We know there are a lot users with call duration of 0, meaning they only get ingoing/internal calls; we also know that 90% of clients use less than 970 minutes of outgoing external calls a month, 95% of clients use less than 2150 minutes, and 99% of them use less than 9595 minutes. Since it's the only type of calls our clients are paying for, we can say that for 95% of clients tariff C would be optimal.\n",
    "\n",
    "Now we can check payment size distribution and start looking for clients with non-optimal plans."
   ]
  },
  {
   "cell_type": "code",
   "execution_count": 45,
   "metadata": {},
   "outputs": [
    {
     "data": {
      "text/plain": [
       "count      792.000000\n",
       "mean      1910.582955\n",
       "std       2221.194976\n",
       "min         30.000000\n",
       "25%       1000.000000\n",
       "50%       1256.200000\n",
       "75%       2049.875000\n",
       "max      29289.600000\n",
       "Name: client_paid, dtype: float64"
      ]
     },
     "execution_count": 45,
     "metadata": {},
     "output_type": "execute_result"
    }
   ],
   "source": [
    "#checking payment size distribution\n",
    "data['client_paid'].describe()"
   ]
  },
  {
   "cell_type": "code",
   "execution_count": 46,
   "metadata": {},
   "outputs": [
    {
     "name": "stdout",
     "output_type": "stream",
     "text": [
      "4332.839999999996\n",
      "5043.38\n",
      "7553.204000000021\n"
     ]
    }
   ],
   "source": [
    "#calculating percentiles to exclude outliers from the graph, so it'll be more informative\n",
    "print(np.percentile(data['client_paid'], 90))\n",
    "print(np.percentile(data['client_paid'], 95))\n",
    "print(np.percentile(data['client_paid'], 99))"
   ]
  },
  {
   "cell_type": "markdown",
   "metadata": {},
   "source": [
    "We see that clients pay between 1000 and 29289 units a month, but 90% of them pay less than 5000, and 99% of them pay less than 8640. We'll plot payment size distribution graph for more than 99% clients by excluding outliers (clients who paid more than 10000)."
   ]
  },
  {
   "cell_type": "code",
   "execution_count": 47,
   "metadata": {},
   "outputs": [
    {
     "data": {
      "image/png": "[encoded data removed]",
      "text/plain": [
       "<Figure size 412.5x360 with 1 Axes>"
      ]
     },
     "metadata": {},
     "output_type": "display_data"
    }
   ],
   "source": [
    "#visualizing payment size distribution among clients with different tariff plans\n",
    "df = data[data['client_paid'] < 10000]\n",
    "\n",
    "plot = sns.displot(data=df, x='client_paid', hue='tariff_plan')\n",
    "plot.fig.suptitle(\"Monthly payment size distribution\",\n",
    "                  fontsize=20, fontdict={\"weight\": \"bold\"})\n",
    "plt.xlabel('Monthly payment size (units)')\n",
    "plt.ylabel('Number of payments')\n",
    "plt.show()"
   ]
  },
  {
   "cell_type": "markdown",
   "metadata": {},
   "source": [
    "<a id=\"part5\"></a>\n",
    "### Finding clients with non-optimal plans"
   ]
  },
  {
   "cell_type": "markdown",
   "metadata": {},
   "source": [
    "According to the pricing we have, for each tariff we can define threshold after which client is overpaying:\n",
    "\n",
    "For clients with tariff C formula would be (1000 + 0.7 * x) = (2000 + 0.5 * x), which gives us x of 5000.\n",
    "That means that clients with tariff C who use more than 5000 minutes a month, overpay - they would pay less if they switched to tariff B. <br>\n",
    "For clients with tariff B formula would be (2000 + 0.5 * x) = (5000 + 0.4 * x), which gives us x of 30000.\n",
    "That means that clients with tariff B who use more than 30000 minutes a month, overpay - they would pay less if they switched to tariff A.\n",
    "\n",
    "**General rule: tariff C is optimal for clients who use less than 5000 munites a month, tariff B is optimal for clients who use between 5000 and 30000 minutes a month, tariff A is optimal for clients who use more than 30000 minutes a month**\n",
    "\n",
    "Now we want to calculate how much each client overpays and thus divide them into categories: clients who don't overpay, clients who overpay a little, and clients who overpay a lot. \n",
    "\n",
    "*Note that we don't want to switch tariff A users straight to tariff C without trying to switch them to tariff B first( this would allow us to loose less profit), so for overpaying tariff A clients we compare their payment to tariff B payment.*"
   ]
  },
  {
   "cell_type": "code",
   "execution_count": 48,
   "metadata": {},
   "outputs": [
    {
     "data": {
      "text/plain": [
       "True"
      ]
     },
     "execution_count": 48,
     "metadata": {},
     "output_type": "execute_result"
    }
   ],
   "source": [
    "#checking if there are clients with tariff C who should switch to A\n",
    "data[(data['tariff_plan'] == 'C') & (data['call_duration'] > 30000)].empty"
   ]
  },
  {
   "cell_type": "code",
   "execution_count": 49,
   "metadata": {},
   "outputs": [],
   "source": [
    "#creating a function to calculate how much each client overpays (if he overpays)\n",
    "def calculate_overpayment_sum(row):\n",
    "    \"\"\"This function iterates over rows to find clients who could pay less than they actually paid;\n",
    "    for such clients it calculates the amount of money they overpayed\"\"\"\n",
    "    if row['tariff_plan'] == 'A':\n",
    "        if row['client_paid'] > row['if_tariff_B']:\n",
    "            x = row['client_paid'] - row['if_tariff_B']\n",
    "        else:\n",
    "            x = 0\n",
    "    elif row['tariff_plan'] == 'B':\n",
    "        if row['client_paid'] > row['if_tariff_C']:\n",
    "            x = row['client_paid'] - row['if_tariff_C']\n",
    "        elif row['client_paid'] > row['if_tariff_A']:\n",
    "            x = row['client_paid'] - row['if_tariff_A']\n",
    "        else:\n",
    "            x = 0\n",
    "    elif row['tariff_plan'] == 'C':\n",
    "        if row['client_paid'] > row['if_tariff_B']:\n",
    "            x = row['client_paid'] - row['if_tariff_B']\n",
    "        elif row['client_paid'] > row['if_tariff_A']:\n",
    "            x = row['client_paid'] - row['if_tariff_A']\n",
    "        else:\n",
    "            x = 0\n",
    "    return x"
   ]
  },
  {
   "cell_type": "code",
   "execution_count": 50,
   "metadata": {},
   "outputs": [],
   "source": [
    "#applying our function to create a column with exact amount of money overpayed\n",
    "data['overpayed'] = data.apply(lambda row : calculate_overpayment_sum(row), axis=1)"
   ]
  },
  {
   "cell_type": "code",
   "execution_count": 51,
   "metadata": {},
   "outputs": [],
   "source": [
    "#creating new column with amount of money overpayed compared to actual payment\n",
    "data['overpayed, %'] = ((data['overpayed'] / data['client_paid']) * 100).round(2)"
   ]
  },
  {
   "cell_type": "code",
   "execution_count": 52,
   "metadata": {},
   "outputs": [],
   "source": [
    "#adding active/non-active status to our data so we can explore clients who stopped using our service\n",
    "data['active'] = np.where(data['user_id'].isin(active_clients_list), True, False)"
   ]
  },
  {
   "cell_type": "code",
   "execution_count": 53,
   "metadata": {},
   "outputs": [
    {
     "data": {
      "image/png": "[encoded data removed]",
      "text/plain": [
       "<Figure size 412.5x360 with 1 Axes>"
      ]
     },
     "metadata": {},
     "output_type": "display_data"
    }
   ],
   "source": [
    "#visualizing overpayment in units\n",
    "\n",
    "plot = sns.displot(data=data, x='overpayed', hue='tariff_plan')\n",
    "plot.fig.suptitle(\"Overpayment size distribution (units)\",\n",
    "                  fontsize=20, fontdict={\"weight\": \"bold\"})\n",
    "plt.xlabel('Overpayed in units')\n",
    "plt.ylabel('Number of payments')\n",
    "plt.show()"
   ]
  },
  {
   "cell_type": "code",
   "execution_count": 54,
   "metadata": {},
   "outputs": [
    {
     "data": {
      "image/png": "[encoded data removed]",
      "text/plain": [
       "<Figure size 412.5x360 with 1 Axes>"
      ]
     },
     "metadata": {},
     "output_type": "display_data"
    }
   ],
   "source": [
    "#visualizing overpayment in percentage of actual payment\n",
    "\n",
    "plot = sns.displot(data=data, x='overpayed, %', hue='tariff_plan')\n",
    "plot.fig.suptitle(\"Overpayment size distribution (percentage of actual payment)\",\n",
    "                  fontsize=20, fontdict={\"weight\": \"bold\"})\n",
    "plt.xlabel('Overpayed, percentage from actual payment')\n",
    "plt.ylabel('Number of payments')\n",
    "plt.show()"
   ]
  },
  {
   "cell_type": "markdown",
   "metadata": {},
   "source": [
    "From this graph we see that quite a lot of clients who don't overpay, we'll consider them as clients with optimal plans.\n",
    "As for overpaying clients - they overpay from 1% to 60% of their payment. We'll consider clients who overpay up to 40% of their payment size as clients who overpay a little; and clients who overpay between 41% and 60% of their payment size as clients who overpay a lot."
   ]
  },
  {
   "cell_type": "code",
   "execution_count": 55,
   "metadata": {},
   "outputs": [],
   "source": [
    "#creating additional columns to divide clients into categories\n",
    "data['optimal_plan'] = np.where(data['overpayed, %'] == 0, 1, 0)\n",
    "data['overpay_slightly'] = np.where((data['overpayed, %'] > 0) & (data['overpayed, %'] <= 40), 1, 0)\n",
    "data['overpay_a_lot'] = np.where(data['overpayed, %'] > 40, 1, 0)"
   ]
  },
  {
   "cell_type": "code",
   "execution_count": 56,
   "metadata": {},
   "outputs": [
    {
     "name": "stdout",
     "output_type": "stream",
     "text": [
      "Percentage of overpaying users in general: 47.55700325732899\n"
     ]
    }
   ],
   "source": [
    "#calculating share of overpaying users\n",
    "print('Percentage of overpaying users in general:',\n",
    "      (data[data['overpayed'] != 0]['user_id'].nunique() / data['user_id'].nunique()) * 100)"
   ]
  },
  {
   "cell_type": "code",
   "execution_count": 57,
   "metadata": {},
   "outputs": [
    {
     "data": {
      "image/png": "[encoded data removed]",
      "text/plain": [
       "<Figure size 1080x1080 with 3 Axes>"
      ]
     },
     "metadata": {},
     "output_type": "display_data"
    }
   ],
   "source": [
    "#visualizing overpayment status for each tariff plan\n",
    "share = data.groupby('tariff_plan').agg({'optimal_plan':'sum', 'overpay_slightly':'sum', 'overpay_a_lot':'sum'}).reset_index()\n",
    "labels = ['Optimal plan', 'Overpay slightly', 'Overpay a lot']\n",
    "\n",
    "fig, (ax1,ax2, ax3) = plt.subplots(1,3,figsize=(15, 15)) \n",
    "#fig.suptitle('Share of overpaying users for each tariff', fontsize=20)\n",
    "\n",
    "labels = labels\n",
    "values = share.loc[0][1:4].values\n",
    "ax1.pie(values,labels = labels,autopct = '%1.1f%%', startangle=90)\n",
    "ax1.set_title('Tariff A')\n",
    "\n",
    "labels = labels\n",
    "values = share.loc[1][1:4].values\n",
    "ax2.pie(values,labels = labels,autopct = '%1.1f%%', startangle=90)\n",
    "ax2.set_title('Tariff B')\n",
    "\n",
    "labels = labels\n",
    "values = share.loc[2][1:4].values\n",
    "ax3.pie(values,labels = labels,autopct = '%1.1f%%', startangle=90)\n",
    "ax3.set_title('Tariff C')\n",
    "\n",
    "fig.show()"
   ]
  },
  {
   "cell_type": "markdown",
   "metadata": {},
   "source": [
    "Pie chart is informative here, but we'll make one more graph to combine all them."
   ]
  },
  {
   "cell_type": "code",
   "execution_count": 58,
   "metadata": {},
   "outputs": [
    {
     "data": {
      "image/png": "[encoded data removed]",
      "text/plain": [
       "<Figure size 468.125x360 with 1 Axes>"
      ]
     },
     "metadata": {},
     "output_type": "display_data"
    }
   ],
   "source": [
    "#checking how overpaying clients are distributed among tariff plans\n",
    "\n",
    "df1 = data.groupby(['tariff_plan']).agg({'optimal_plan':'sum', 'overpay_slightly':'sum', 'overpay_a_lot':'sum'}).reset_index()\n",
    "df1 = pd.melt(df1, id_vars=\"tariff_plan\", var_name=\"status\", value_name=\"size\")\n",
    "\n",
    "#visualizing overpayment in percentage of actual payment\n",
    "\n",
    "plot = sns.catplot(x='tariff_plan', y='size', hue='status', data=df1, kind='bar')\n",
    "plot.fig.suptitle(\"Overpayment status distribution (among tariffs)\",\n",
    "                  fontsize=20, fontdict={\"weight\": \"bold\"})\n",
    "plt.xlabel('Tariff plan')\n",
    "plt.ylabel('Number of clients')\n",
    "plt.show()"
   ]
  },
  {
   "cell_type": "markdown",
   "metadata": {},
   "source": [
    "Almost all tariff C users are marked as users with optimal plans, since it's the cheapest tariff. Small amount of them overpay slightly.<br>\n",
    "Almost all tariff A users overpay a lot (remember that we compare payments of tariff A and B in this case). <br>\n",
    "As for tariff B users: most of them overpay a lot, while some of them overpay slightly.\n",
    "\n",
    "Oviously, this is a big problem - if all these overpaying clients will leave us for another company, what we'll be left with?\n",
    "Let's study clients that already left (weren't active in November) to see if we could find any pattern."
   ]
  },
  {
   "cell_type": "code",
   "execution_count": 59,
   "metadata": {},
   "outputs": [
    {
     "data": {
      "text/html": [
       "<div>\n",
       "<style scoped>\n",
       "    .dataframe tbody tr th:only-of-type {\n",
       "        vertical-align: middle;\n",
       "    }\n",
       "\n",
       "    .dataframe tbody tr th {\n",
       "        vertical-align: top;\n",
       "    }\n",
       "\n",
       "    .dataframe thead th {\n",
       "        text-align: right;\n",
       "    }\n",
       "</style>\n",
       "<table border=\"1\" class=\"dataframe\">\n",
       "  <thead>\n",
       "    <tr style=\"text-align: right;\">\n",
       "      <th></th>\n",
       "      <th>tariff_plan</th>\n",
       "      <th>active</th>\n",
       "      <th>user_id</th>\n",
       "      <th>client_paid</th>\n",
       "      <th>overpayed</th>\n",
       "      <th>overpayed, %</th>\n",
       "    </tr>\n",
       "  </thead>\n",
       "  <tbody>\n",
       "    <tr>\n",
       "      <th>0</th>\n",
       "      <td>A</td>\n",
       "      <td>False</td>\n",
       "      <td>4</td>\n",
       "      <td>6943.500000</td>\n",
       "      <td>2038.662500</td>\n",
       "      <td>42.248750</td>\n",
       "    </tr>\n",
       "    <tr>\n",
       "      <th>1</th>\n",
       "      <td>A</td>\n",
       "      <td>True</td>\n",
       "      <td>30</td>\n",
       "      <td>5483.181176</td>\n",
       "      <td>2386.065882</td>\n",
       "      <td>53.767647</td>\n",
       "    </tr>\n",
       "    <tr>\n",
       "      <th>2</th>\n",
       "      <td>B</td>\n",
       "      <td>False</td>\n",
       "      <td>16</td>\n",
       "      <td>1602.750000</td>\n",
       "      <td>680.400000</td>\n",
       "      <td>43.544167</td>\n",
       "    </tr>\n",
       "    <tr>\n",
       "      <th>3</th>\n",
       "      <td>B</td>\n",
       "      <td>True</td>\n",
       "      <td>96</td>\n",
       "      <td>1950.881132</td>\n",
       "      <td>802.947170</td>\n",
       "      <td>44.309283</td>\n",
       "    </tr>\n",
       "    <tr>\n",
       "      <th>4</th>\n",
       "      <td>C</td>\n",
       "      <td>False</td>\n",
       "      <td>26</td>\n",
       "      <td>1075.486792</td>\n",
       "      <td>16.067925</td>\n",
       "      <td>0.276226</td>\n",
       "    </tr>\n",
       "    <tr>\n",
       "      <th>5</th>\n",
       "      <td>C</td>\n",
       "      <td>True</td>\n",
       "      <td>135</td>\n",
       "      <td>1061.941176</td>\n",
       "      <td>1.045938</td>\n",
       "      <td>0.018431</td>\n",
       "    </tr>\n",
       "  </tbody>\n",
       "</table>\n",
       "</div>"
      ],
      "text/plain": [
       "  tariff_plan  active  user_id  client_paid    overpayed  overpayed, %\n",
       "0           A   False        4  6943.500000  2038.662500     42.248750\n",
       "1           A    True       30  5483.181176  2386.065882     53.767647\n",
       "2           B   False       16  1602.750000   680.400000     43.544167\n",
       "3           B    True       96  1950.881132   802.947170     44.309283\n",
       "4           C   False       26  1075.486792    16.067925      0.276226\n",
       "5           C    True      135  1061.941176     1.045938      0.018431"
      ]
     },
     "execution_count": 59,
     "metadata": {},
     "output_type": "execute_result"
    }
   ],
   "source": [
    "#checking the difference between active and non-active users\n",
    "active_status = data.groupby(['tariff_plan', 'active']).agg({'user_id':'nunique', 'client_paid':'mean', 'overpayed':'mean', 'overpayed, %':'mean'}).reset_index()\n",
    "active_status"
   ]
  },
  {
   "cell_type": "code",
   "execution_count": 60,
   "metadata": {},
   "outputs": [
    {
     "data": {
      "image/png": "[encoded data removed]",
      "text/plain": [
       "<Figure size 432x288 with 1 Axes>"
      ]
     },
     "metadata": {},
     "output_type": "display_data"
    }
   ],
   "source": [
    "#visualizing payment size of active/non-active clients\n",
    "\n",
    "plot = sns.barplot(x=\"tariff_plan\", y=\"client_paid\", hue=\"active\", data=data)\n",
    "plt.title(\"Payment size of active/non-active clients\",\n",
    "                  fontsize=15)\n",
    "plt.xlabel('Tariff plan')\n",
    "plt.ylabel('Payment size')\n",
    "\n",
    "plt.show()"
   ]
  },
  {
   "cell_type": "markdown",
   "metadata": {},
   "source": [
    "While checking the difference between active and non-active users (those who weren't active in November), we found out, that on average, clients who stopped using our service were paying more than those who stayed. It's really hard to compare such groups of clients in terms of how much they overpay, because as for tariff A users, for instance, - almost all of them overpay, so on graph we won't see clear difference.\n",
    "\n",
    "Generally we can say few things based on our common sense: the higher the price and the more client overpays, the higher the probability that he'll leave us for another company. <br>\n",
    "So basically company will lose profit anyway: either by lowing prices/switching tariffs, or by losing its clients. What can we do about it? <br>\n",
    "We can either lose some profit by lowering the expences of overpaying clients (and therefore, increasing their loyalty to the company, meaning that LTV of these clients will also rise), or we can do nothing and lose even more profit if client will stop using our service at all.\n",
    "\n",
    "To see the impact of potential changes we will calculate company's profit for each tariff for various scenarios. At this point we'll keep only active users in our dataset."
   ]
  },
  {
   "cell_type": "markdown",
   "metadata": {},
   "source": [
    "<a id=\"part6\"></a>\n",
    "### Various scenarios and their impact"
   ]
  },
  {
   "cell_type": "code",
   "execution_count": 61,
   "metadata": {},
   "outputs": [],
   "source": [
    "#leaving only active users in our dataset\n",
    "data = data[data['active'] == True]"
   ]
  },
  {
   "cell_type": "code",
   "execution_count": 62,
   "metadata": {},
   "outputs": [],
   "source": [
    "#adding column with potential profit based on condition:\n",
    "#if client doesn't overpay - nothing changes, \n",
    "#if he overpays - substracts the overpay from actual payment\n",
    "data['if_all_overpaying_switch'] = np.where(data['overpayed, %'] > 0, data['client_paid'] - data['overpayed'], data['client_paid'])\n",
    "data['if_all_overpaying_leave'] = np.where(data['overpayed, %'] > 0, 0, data['client_paid'])"
   ]
  },
  {
   "cell_type": "code",
   "execution_count": 63,
   "metadata": {},
   "outputs": [
    {
     "data": {
      "text/html": [
       "<div>\n",
       "<style scoped>\n",
       "    .dataframe tbody tr th:only-of-type {\n",
       "        vertical-align: middle;\n",
       "    }\n",
       "\n",
       "    .dataframe tbody tr th {\n",
       "        vertical-align: top;\n",
       "    }\n",
       "\n",
       "    .dataframe thead th {\n",
       "        text-align: right;\n",
       "    }\n",
       "</style>\n",
       "<table border=\"1\" class=\"dataframe\">\n",
       "  <thead>\n",
       "    <tr style=\"text-align: right;\">\n",
       "      <th></th>\n",
       "      <th>call_month</th>\n",
       "      <th>tariff_plan</th>\n",
       "      <th>client_paid</th>\n",
       "      <th>if_all_overpaying_leave</th>\n",
       "      <th>if_all_overpaying_switch</th>\n",
       "    </tr>\n",
       "  </thead>\n",
       "  <tbody>\n",
       "    <tr>\n",
       "      <th>0</th>\n",
       "      <td>2019-08-01</td>\n",
       "      <td>A</td>\n",
       "      <td>34006.4</td>\n",
       "      <td>12793.2</td>\n",
       "      <td>21332.2</td>\n",
       "    </tr>\n",
       "    <tr>\n",
       "      <th>1</th>\n",
       "      <td>2019-08-01</td>\n",
       "      <td>B</td>\n",
       "      <td>37644.5</td>\n",
       "      <td>3603.0</td>\n",
       "      <td>23505.1</td>\n",
       "    </tr>\n",
       "    <tr>\n",
       "      <th>2</th>\n",
       "      <td>2019-08-01</td>\n",
       "      <td>C</td>\n",
       "      <td>15750.6</td>\n",
       "      <td>15750.6</td>\n",
       "      <td>15750.6</td>\n",
       "    </tr>\n",
       "    <tr>\n",
       "      <th>3</th>\n",
       "      <td>2019-09-01</td>\n",
       "      <td>A</td>\n",
       "      <td>95413.2</td>\n",
       "      <td>29289.6</td>\n",
       "      <td>55886.6</td>\n",
       "    </tr>\n",
       "    <tr>\n",
       "      <th>4</th>\n",
       "      <td>2019-09-01</td>\n",
       "      <td>B</td>\n",
       "      <td>102866.0</td>\n",
       "      <td>7125.5</td>\n",
       "      <td>60180.2</td>\n",
       "    </tr>\n",
       "    <tr>\n",
       "      <th>5</th>\n",
       "      <td>2019-09-01</td>\n",
       "      <td>C</td>\n",
       "      <td>64579.8</td>\n",
       "      <td>64579.8</td>\n",
       "      <td>64579.8</td>\n",
       "    </tr>\n",
       "    <tr>\n",
       "      <th>6</th>\n",
       "      <td>2019-10-01</td>\n",
       "      <td>A</td>\n",
       "      <td>151139.2</td>\n",
       "      <td>34980.8</td>\n",
       "      <td>84043.8</td>\n",
       "    </tr>\n",
       "    <tr>\n",
       "      <th>7</th>\n",
       "      <td>2019-10-01</td>\n",
       "      <td>B</td>\n",
       "      <td>163122.0</td>\n",
       "      <td>11263.0</td>\n",
       "      <td>95345.6</td>\n",
       "    </tr>\n",
       "    <tr>\n",
       "      <th>8</th>\n",
       "      <td>2019-10-01</td>\n",
       "      <td>C</td>\n",
       "      <td>135661.5</td>\n",
       "      <td>129989.6</td>\n",
       "      <td>135288.1</td>\n",
       "    </tr>\n",
       "    <tr>\n",
       "      <th>9</th>\n",
       "      <td>2019-11-01</td>\n",
       "      <td>A</td>\n",
       "      <td>185511.6</td>\n",
       "      <td>26589.2</td>\n",
       "      <td>101992.2</td>\n",
       "    </tr>\n",
       "    <tr>\n",
       "      <th>10</th>\n",
       "      <td>2019-11-01</td>\n",
       "      <td>B</td>\n",
       "      <td>213351.0</td>\n",
       "      <td>10799.5</td>\n",
       "      <td>125171.6</td>\n",
       "    </tr>\n",
       "    <tr>\n",
       "      <th>11</th>\n",
       "      <td>2019-11-01</td>\n",
       "      <td>C</td>\n",
       "      <td>163121.1</td>\n",
       "      <td>163121.1</td>\n",
       "      <td>163121.1</td>\n",
       "    </tr>\n",
       "  </tbody>\n",
       "</table>\n",
       "</div>"
      ],
      "text/plain": [
       "   call_month tariff_plan  client_paid  if_all_overpaying_leave  \\\n",
       "0  2019-08-01           A      34006.4                  12793.2   \n",
       "1  2019-08-01           B      37644.5                   3603.0   \n",
       "2  2019-08-01           C      15750.6                  15750.6   \n",
       "3  2019-09-01           A      95413.2                  29289.6   \n",
       "4  2019-09-01           B     102866.0                   7125.5   \n",
       "5  2019-09-01           C      64579.8                  64579.8   \n",
       "6  2019-10-01           A     151139.2                  34980.8   \n",
       "7  2019-10-01           B     163122.0                  11263.0   \n",
       "8  2019-10-01           C     135661.5                 129989.6   \n",
       "9  2019-11-01           A     185511.6                  26589.2   \n",
       "10 2019-11-01           B     213351.0                  10799.5   \n",
       "11 2019-11-01           C     163121.1                 163121.1   \n",
       "\n",
       "    if_all_overpaying_switch  \n",
       "0                    21332.2  \n",
       "1                    23505.1  \n",
       "2                    15750.6  \n",
       "3                    55886.6  \n",
       "4                    60180.2  \n",
       "5                    64579.8  \n",
       "6                    84043.8  \n",
       "7                    95345.6  \n",
       "8                   135288.1  \n",
       "9                   101992.2  \n",
       "10                  125171.6  \n",
       "11                  163121.1  "
      ]
     },
     "execution_count": 63,
     "metadata": {},
     "output_type": "execute_result"
    }
   ],
   "source": [
    "#aggregating table\n",
    "profit = data.groupby(['call_month', 'tariff_plan']).agg({'client_paid':'sum', 'if_all_overpaying_leave':'sum', 'if_all_overpaying_switch':'sum'}).reset_index()\n",
    "profit"
   ]
  },
  {
   "cell_type": "markdown",
   "metadata": {},
   "source": [
    "What can we say? It's not easy to lose profit, but it's a little easier if you know you could lose more.\n",
    "We see pretty clearly that switching overpaying clients to optimal tariff would lead to significant decrease in profit, but on the other hand, losing all those clients would be a disaster - we would lose almost all users from tariff plans A and B!\n",
    "\n",
    "It's easy to choose between these two possibilities, but what will happen if we'll offer to switch tariffs only to users who overpay a lot? "
   ]
  },
  {
   "cell_type": "code",
   "execution_count": 64,
   "metadata": {},
   "outputs": [],
   "source": [
    "#adding columns with new values based on condition\n",
    "data['if_overpaying_a_lot_switch'] = np.where(data['overpayed, %'] > 40, data['client_paid'] - data['overpayed'], data['client_paid'])\n",
    "data['if_overpaying_a_lot_leave'] = np.where(data['overpayed, %'] > 40, 0, data['client_paid'])"
   ]
  },
  {
   "cell_type": "code",
   "execution_count": 65,
   "metadata": {},
   "outputs": [
    {
     "data": {
      "text/html": [
       "<div>\n",
       "<style scoped>\n",
       "    .dataframe tbody tr th:only-of-type {\n",
       "        vertical-align: middle;\n",
       "    }\n",
       "\n",
       "    .dataframe tbody tr th {\n",
       "        vertical-align: top;\n",
       "    }\n",
       "\n",
       "    .dataframe thead th {\n",
       "        text-align: right;\n",
       "    }\n",
       "</style>\n",
       "<table border=\"1\" class=\"dataframe\">\n",
       "  <thead>\n",
       "    <tr style=\"text-align: right;\">\n",
       "      <th></th>\n",
       "      <th>call_month</th>\n",
       "      <th>tariff_plan</th>\n",
       "      <th>client_paid</th>\n",
       "      <th>if_all_overpaying_leave</th>\n",
       "      <th>if_all_overpaying_switch</th>\n",
       "      <th>if_overpaying_a_lot_switch</th>\n",
       "      <th>if_overpaying_a_lot_leave</th>\n",
       "    </tr>\n",
       "  </thead>\n",
       "  <tbody>\n",
       "    <tr>\n",
       "      <th>0</th>\n",
       "      <td>2019-08-01</td>\n",
       "      <td>A</td>\n",
       "      <td>34006.4</td>\n",
       "      <td>12793.2</td>\n",
       "      <td>21332.2</td>\n",
       "      <td>21332.2</td>\n",
       "      <td>12793.2</td>\n",
       "    </tr>\n",
       "    <tr>\n",
       "      <th>1</th>\n",
       "      <td>2019-08-01</td>\n",
       "      <td>B</td>\n",
       "      <td>37644.5</td>\n",
       "      <td>3603.0</td>\n",
       "      <td>23505.1</td>\n",
       "      <td>27210.5</td>\n",
       "      <td>16299.5</td>\n",
       "    </tr>\n",
       "    <tr>\n",
       "      <th>2</th>\n",
       "      <td>2019-08-01</td>\n",
       "      <td>C</td>\n",
       "      <td>15750.6</td>\n",
       "      <td>15750.6</td>\n",
       "      <td>15750.6</td>\n",
       "      <td>15750.6</td>\n",
       "      <td>15750.6</td>\n",
       "    </tr>\n",
       "    <tr>\n",
       "      <th>3</th>\n",
       "      <td>2019-09-01</td>\n",
       "      <td>A</td>\n",
       "      <td>95413.2</td>\n",
       "      <td>29289.6</td>\n",
       "      <td>55886.6</td>\n",
       "      <td>55886.6</td>\n",
       "      <td>29289.6</td>\n",
       "    </tr>\n",
       "    <tr>\n",
       "      <th>4</th>\n",
       "      <td>2019-09-01</td>\n",
       "      <td>B</td>\n",
       "      <td>102866.0</td>\n",
       "      <td>7125.5</td>\n",
       "      <td>60180.2</td>\n",
       "      <td>65914.6</td>\n",
       "      <td>26314.5</td>\n",
       "    </tr>\n",
       "    <tr>\n",
       "      <th>5</th>\n",
       "      <td>2019-09-01</td>\n",
       "      <td>C</td>\n",
       "      <td>64579.8</td>\n",
       "      <td>64579.8</td>\n",
       "      <td>64579.8</td>\n",
       "      <td>64579.8</td>\n",
       "      <td>64579.8</td>\n",
       "    </tr>\n",
       "    <tr>\n",
       "      <th>6</th>\n",
       "      <td>2019-10-01</td>\n",
       "      <td>A</td>\n",
       "      <td>151139.2</td>\n",
       "      <td>34980.8</td>\n",
       "      <td>84043.8</td>\n",
       "      <td>85334.8</td>\n",
       "      <td>38656.8</td>\n",
       "    </tr>\n",
       "    <tr>\n",
       "      <th>7</th>\n",
       "      <td>2019-10-01</td>\n",
       "      <td>B</td>\n",
       "      <td>163122.0</td>\n",
       "      <td>11263.0</td>\n",
       "      <td>95345.6</td>\n",
       "      <td>105841.0</td>\n",
       "      <td>43659.5</td>\n",
       "    </tr>\n",
       "    <tr>\n",
       "      <th>8</th>\n",
       "      <td>2019-10-01</td>\n",
       "      <td>C</td>\n",
       "      <td>135661.5</td>\n",
       "      <td>129989.6</td>\n",
       "      <td>135288.1</td>\n",
       "      <td>135661.5</td>\n",
       "      <td>135661.5</td>\n",
       "    </tr>\n",
       "    <tr>\n",
       "      <th>9</th>\n",
       "      <td>2019-11-01</td>\n",
       "      <td>A</td>\n",
       "      <td>185511.6</td>\n",
       "      <td>26589.2</td>\n",
       "      <td>101992.2</td>\n",
       "      <td>108509.2</td>\n",
       "      <td>51521.2</td>\n",
       "    </tr>\n",
       "    <tr>\n",
       "      <th>10</th>\n",
       "      <td>2019-11-01</td>\n",
       "      <td>B</td>\n",
       "      <td>213351.0</td>\n",
       "      <td>10799.5</td>\n",
       "      <td>125171.6</td>\n",
       "      <td>136520.4</td>\n",
       "      <td>54427.5</td>\n",
       "    </tr>\n",
       "    <tr>\n",
       "      <th>11</th>\n",
       "      <td>2019-11-01</td>\n",
       "      <td>C</td>\n",
       "      <td>163121.1</td>\n",
       "      <td>163121.1</td>\n",
       "      <td>163121.1</td>\n",
       "      <td>163121.1</td>\n",
       "      <td>163121.1</td>\n",
       "    </tr>\n",
       "  </tbody>\n",
       "</table>\n",
       "</div>"
      ],
      "text/plain": [
       "   call_month tariff_plan  client_paid  if_all_overpaying_leave  \\\n",
       "0  2019-08-01           A      34006.4                  12793.2   \n",
       "1  2019-08-01           B      37644.5                   3603.0   \n",
       "2  2019-08-01           C      15750.6                  15750.6   \n",
       "3  2019-09-01           A      95413.2                  29289.6   \n",
       "4  2019-09-01           B     102866.0                   7125.5   \n",
       "5  2019-09-01           C      64579.8                  64579.8   \n",
       "6  2019-10-01           A     151139.2                  34980.8   \n",
       "7  2019-10-01           B     163122.0                  11263.0   \n",
       "8  2019-10-01           C     135661.5                 129989.6   \n",
       "9  2019-11-01           A     185511.6                  26589.2   \n",
       "10 2019-11-01           B     213351.0                  10799.5   \n",
       "11 2019-11-01           C     163121.1                 163121.1   \n",
       "\n",
       "    if_all_overpaying_switch  if_overpaying_a_lot_switch  \\\n",
       "0                    21332.2                     21332.2   \n",
       "1                    23505.1                     27210.5   \n",
       "2                    15750.6                     15750.6   \n",
       "3                    55886.6                     55886.6   \n",
       "4                    60180.2                     65914.6   \n",
       "5                    64579.8                     64579.8   \n",
       "6                    84043.8                     85334.8   \n",
       "7                    95345.6                    105841.0   \n",
       "8                   135288.1                    135661.5   \n",
       "9                   101992.2                    108509.2   \n",
       "10                  125171.6                    136520.4   \n",
       "11                  163121.1                    163121.1   \n",
       "\n",
       "    if_overpaying_a_lot_leave  \n",
       "0                     12793.2  \n",
       "1                     16299.5  \n",
       "2                     15750.6  \n",
       "3                     29289.6  \n",
       "4                     26314.5  \n",
       "5                     64579.8  \n",
       "6                     38656.8  \n",
       "7                     43659.5  \n",
       "8                    135661.5  \n",
       "9                     51521.2  \n",
       "10                    54427.5  \n",
       "11                   163121.1  "
      ]
     },
     "execution_count": 65,
     "metadata": {},
     "output_type": "execute_result"
    }
   ],
   "source": [
    "#aggregating and merging into one table\n",
    "profit1 = data.groupby(['call_month', 'tariff_plan']).agg({'if_overpaying_a_lot_switch':'sum', 'if_overpaying_a_lot_leave':'sum'}).reset_index()\n",
    "profit = profit.merge(profit1, on=['call_month', 'tariff_plan'])\n",
    "profit"
   ]
  },
  {
   "cell_type": "code",
   "execution_count": 66,
   "metadata": {},
   "outputs": [
    {
     "data": {
      "image/png": "[encoded data removed]",
      "text/plain": [
       "<Figure size 1440x720 with 1 Axes>"
      ]
     },
     "metadata": {},
     "output_type": "display_data"
    }
   ],
   "source": [
    "#visualizing actual and potential profit for different conditions\n",
    "\n",
    "plt.figure(figsize=(20,10))\n",
    "sns.lineplot(data=profit, x='call_month', y='client_paid', label='Actual profit', ci=None, linewidth=5)\n",
    "sns.lineplot(data=profit, x='call_month', y='if_overpaying_a_lot_switch', label='Profit if overpaying a lot clients switch tariff', ci=None, linewidth=5)\n",
    "sns.lineplot(data=profit, x='call_month', y='if_all_overpaying_switch', label='Profit if all overpaying clients switch tariff', ci=None, linewidth=5)\n",
    "sns.lineplot(data=profit, x='call_month', y='if_overpaying_a_lot_leave', label='Profit if overpaying a lot clients leave', ci=None, linewidth=5)\n",
    "sns.lineplot(data=profit, x='call_month', y='if_all_overpaying_leave', label='Profit if all overpaying clients leave', ci=None, linewidth=5)\n",
    "\n",
    "\n",
    "plt.title('Actual and potential profit with different conditions', fontsize=20, fontdict={\"weight\": \"bold\"})\n",
    "plt.xlabel('Month')\n",
    "plt.ylabel('Profit')\n",
    "plt.xticks(profit['call_month'])\n",
    "plt.legend(fontsize=18)\n",
    "plt.show()"
   ]
  },
  {
   "cell_type": "markdown",
   "metadata": {},
   "source": [
    "On this graph we see the company's profit with different scenarios: actual profit, profit if all overpaying clients switch, profit if all overpaying clients leave, profit if overpaying a lot customers switch, profit if overpaying a lot customers leave. <br>\n",
    "Obviously, we wouldn't want any clients to leave: that would drop company's profit deep down. As for switching - switching all overpaying customers is pretty close to switching overpaying a lot customers, so it's the question of risk the company's ready to take.\n",
    "\n",
    "Now let's do the same with average monthly payment."
   ]
  },
  {
   "cell_type": "code",
   "execution_count": 67,
   "metadata": {},
   "outputs": [
    {
     "data": {
      "text/html": [
       "<div>\n",
       "<style scoped>\n",
       "    .dataframe tbody tr th:only-of-type {\n",
       "        vertical-align: middle;\n",
       "    }\n",
       "\n",
       "    .dataframe tbody tr th {\n",
       "        vertical-align: top;\n",
       "    }\n",
       "\n",
       "    .dataframe thead th {\n",
       "        text-align: right;\n",
       "    }\n",
       "</style>\n",
       "<table border=\"1\" class=\"dataframe\">\n",
       "  <thead>\n",
       "    <tr style=\"text-align: right;\">\n",
       "      <th></th>\n",
       "      <th>call_month</th>\n",
       "      <th>tariff_plan</th>\n",
       "      <th>client_paid</th>\n",
       "      <th>if_all_overpaying_leave</th>\n",
       "      <th>if_all_overpaying_switch</th>\n",
       "      <th>if_overpaying_a_lot_switch</th>\n",
       "      <th>if_overpaying_a_lot_leave</th>\n",
       "    </tr>\n",
       "  </thead>\n",
       "  <tbody>\n",
       "    <tr>\n",
       "      <th>0</th>\n",
       "      <td>2019-08-01</td>\n",
       "      <td>A</td>\n",
       "      <td>3400.64</td>\n",
       "      <td>1279.32</td>\n",
       "      <td>2133.22</td>\n",
       "      <td>2133.22</td>\n",
       "      <td>1279.32</td>\n",
       "    </tr>\n",
       "    <tr>\n",
       "      <th>1</th>\n",
       "      <td>2019-08-01</td>\n",
       "      <td>B</td>\n",
       "      <td>1254.82</td>\n",
       "      <td>120.10</td>\n",
       "      <td>783.50</td>\n",
       "      <td>907.02</td>\n",
       "      <td>543.32</td>\n",
       "    </tr>\n",
       "    <tr>\n",
       "      <th>2</th>\n",
       "      <td>2019-08-01</td>\n",
       "      <td>C</td>\n",
       "      <td>583.36</td>\n",
       "      <td>583.36</td>\n",
       "      <td>583.36</td>\n",
       "      <td>583.36</td>\n",
       "      <td>583.36</td>\n",
       "    </tr>\n",
       "    <tr>\n",
       "      <th>3</th>\n",
       "      <td>2019-09-01</td>\n",
       "      <td>A</td>\n",
       "      <td>5963.32</td>\n",
       "      <td>1830.60</td>\n",
       "      <td>3492.91</td>\n",
       "      <td>3492.91</td>\n",
       "      <td>1830.60</td>\n",
       "    </tr>\n",
       "    <tr>\n",
       "      <th>4</th>\n",
       "      <td>2019-09-01</td>\n",
       "      <td>B</td>\n",
       "      <td>1836.89</td>\n",
       "      <td>127.24</td>\n",
       "      <td>1074.65</td>\n",
       "      <td>1177.05</td>\n",
       "      <td>469.90</td>\n",
       "    </tr>\n",
       "    <tr>\n",
       "      <th>5</th>\n",
       "      <td>2019-09-01</td>\n",
       "      <td>C</td>\n",
       "      <td>949.70</td>\n",
       "      <td>949.70</td>\n",
       "      <td>949.70</td>\n",
       "      <td>949.70</td>\n",
       "      <td>949.70</td>\n",
       "    </tr>\n",
       "    <tr>\n",
       "      <th>6</th>\n",
       "      <td>2019-10-01</td>\n",
       "      <td>A</td>\n",
       "      <td>5211.70</td>\n",
       "      <td>1206.23</td>\n",
       "      <td>2898.06</td>\n",
       "      <td>2942.58</td>\n",
       "      <td>1332.99</td>\n",
       "    </tr>\n",
       "    <tr>\n",
       "      <th>7</th>\n",
       "      <td>2019-10-01</td>\n",
       "      <td>B</td>\n",
       "      <td>1965.33</td>\n",
       "      <td>135.70</td>\n",
       "      <td>1148.74</td>\n",
       "      <td>1275.19</td>\n",
       "      <td>526.02</td>\n",
       "    </tr>\n",
       "    <tr>\n",
       "      <th>8</th>\n",
       "      <td>2019-10-01</td>\n",
       "      <td>C</td>\n",
       "      <td>1068.20</td>\n",
       "      <td>1023.54</td>\n",
       "      <td>1065.26</td>\n",
       "      <td>1068.20</td>\n",
       "      <td>1068.20</td>\n",
       "    </tr>\n",
       "    <tr>\n",
       "      <th>9</th>\n",
       "      <td>2019-11-01</td>\n",
       "      <td>A</td>\n",
       "      <td>6183.72</td>\n",
       "      <td>886.31</td>\n",
       "      <td>3399.74</td>\n",
       "      <td>3616.97</td>\n",
       "      <td>1717.37</td>\n",
       "    </tr>\n",
       "    <tr>\n",
       "      <th>10</th>\n",
       "      <td>2019-11-01</td>\n",
       "      <td>B</td>\n",
       "      <td>2222.41</td>\n",
       "      <td>112.49</td>\n",
       "      <td>1303.87</td>\n",
       "      <td>1422.09</td>\n",
       "      <td>566.95</td>\n",
       "    </tr>\n",
       "    <tr>\n",
       "      <th>11</th>\n",
       "      <td>2019-11-01</td>\n",
       "      <td>C</td>\n",
       "      <td>1208.30</td>\n",
       "      <td>1208.30</td>\n",
       "      <td>1208.30</td>\n",
       "      <td>1208.30</td>\n",
       "      <td>1208.30</td>\n",
       "    </tr>\n",
       "  </tbody>\n",
       "</table>\n",
       "</div>"
      ],
      "text/plain": [
       "   call_month tariff_plan  client_paid  if_all_overpaying_leave  \\\n",
       "0  2019-08-01           A      3400.64                  1279.32   \n",
       "1  2019-08-01           B      1254.82                   120.10   \n",
       "2  2019-08-01           C       583.36                   583.36   \n",
       "3  2019-09-01           A      5963.32                  1830.60   \n",
       "4  2019-09-01           B      1836.89                   127.24   \n",
       "5  2019-09-01           C       949.70                   949.70   \n",
       "6  2019-10-01           A      5211.70                  1206.23   \n",
       "7  2019-10-01           B      1965.33                   135.70   \n",
       "8  2019-10-01           C      1068.20                  1023.54   \n",
       "9  2019-11-01           A      6183.72                   886.31   \n",
       "10 2019-11-01           B      2222.41                   112.49   \n",
       "11 2019-11-01           C      1208.30                  1208.30   \n",
       "\n",
       "    if_all_overpaying_switch  if_overpaying_a_lot_switch  \\\n",
       "0                    2133.22                     2133.22   \n",
       "1                     783.50                      907.02   \n",
       "2                     583.36                      583.36   \n",
       "3                    3492.91                     3492.91   \n",
       "4                    1074.65                     1177.05   \n",
       "5                     949.70                      949.70   \n",
       "6                    2898.06                     2942.58   \n",
       "7                    1148.74                     1275.19   \n",
       "8                    1065.26                     1068.20   \n",
       "9                    3399.74                     3616.97   \n",
       "10                   1303.87                     1422.09   \n",
       "11                   1208.30                     1208.30   \n",
       "\n",
       "    if_overpaying_a_lot_leave  \n",
       "0                     1279.32  \n",
       "1                      543.32  \n",
       "2                      583.36  \n",
       "3                     1830.60  \n",
       "4                      469.90  \n",
       "5                      949.70  \n",
       "6                     1332.99  \n",
       "7                      526.02  \n",
       "8                     1068.20  \n",
       "9                     1717.37  \n",
       "10                     566.95  \n",
       "11                    1208.30  "
      ]
     },
     "execution_count": 67,
     "metadata": {},
     "output_type": "execute_result"
    }
   ],
   "source": [
    "#aggregating table\n",
    "avg_payment = data.groupby(['call_month', 'tariff_plan']).agg({'client_paid':'mean', 'if_all_overpaying_leave':'mean', \n",
    "                                                               'if_all_overpaying_switch':'mean', 'if_overpaying_a_lot_switch':'mean', \n",
    "                                                               'if_overpaying_a_lot_leave':'mean'}).reset_index().round(2)\n",
    "avg_payment"
   ]
  },
  {
   "cell_type": "code",
   "execution_count": 68,
   "metadata": {},
   "outputs": [
    {
     "data": {
      "text/html": [
       "<div>\n",
       "<style scoped>\n",
       "    .dataframe tbody tr th:only-of-type {\n",
       "        vertical-align: middle;\n",
       "    }\n",
       "\n",
       "    .dataframe tbody tr th {\n",
       "        vertical-align: top;\n",
       "    }\n",
       "\n",
       "    .dataframe thead th {\n",
       "        text-align: right;\n",
       "    }\n",
       "</style>\n",
       "<table border=\"1\" class=\"dataframe\">\n",
       "  <thead>\n",
       "    <tr style=\"text-align: right;\">\n",
       "      <th></th>\n",
       "      <th>call_month</th>\n",
       "      <th>client_paid</th>\n",
       "      <th>if_all_overpaying_leave</th>\n",
       "      <th>if_all_overpaying_switch</th>\n",
       "      <th>if_overpaying_a_lot_switch</th>\n",
       "      <th>if_overpaying_a_lot_leave</th>\n",
       "    </tr>\n",
       "  </thead>\n",
       "  <tbody>\n",
       "    <tr>\n",
       "      <th>0</th>\n",
       "      <td>2019-08-01</td>\n",
       "      <td>1746.27</td>\n",
       "      <td>660.93</td>\n",
       "      <td>1166.69</td>\n",
       "      <td>1207.87</td>\n",
       "      <td>802.00</td>\n",
       "    </tr>\n",
       "    <tr>\n",
       "      <th>1</th>\n",
       "      <td>2019-09-01</td>\n",
       "      <td>2916.64</td>\n",
       "      <td>969.18</td>\n",
       "      <td>1839.09</td>\n",
       "      <td>1873.22</td>\n",
       "      <td>1083.40</td>\n",
       "    </tr>\n",
       "    <tr>\n",
       "      <th>2</th>\n",
       "      <td>2019-10-01</td>\n",
       "      <td>2748.41</td>\n",
       "      <td>788.49</td>\n",
       "      <td>1704.02</td>\n",
       "      <td>1761.99</td>\n",
       "      <td>975.74</td>\n",
       "    </tr>\n",
       "    <tr>\n",
       "      <th>3</th>\n",
       "      <td>2019-11-01</td>\n",
       "      <td>3204.81</td>\n",
       "      <td>735.70</td>\n",
       "      <td>1970.64</td>\n",
       "      <td>2082.45</td>\n",
       "      <td>1164.21</td>\n",
       "    </tr>\n",
       "  </tbody>\n",
       "</table>\n",
       "</div>"
      ],
      "text/plain": [
       "  call_month  client_paid  if_all_overpaying_leave  if_all_overpaying_switch  \\\n",
       "0 2019-08-01      1746.27                   660.93                   1166.69   \n",
       "1 2019-09-01      2916.64                   969.18                   1839.09   \n",
       "2 2019-10-01      2748.41                   788.49                   1704.02   \n",
       "3 2019-11-01      3204.81                   735.70                   1970.64   \n",
       "\n",
       "   if_overpaying_a_lot_switch  if_overpaying_a_lot_leave  \n",
       "0                     1207.87                     802.00  \n",
       "1                     1873.22                    1083.40  \n",
       "2                     1761.99                     975.74  \n",
       "3                     2082.45                    1164.21  "
      ]
     },
     "execution_count": 68,
     "metadata": {},
     "output_type": "execute_result"
    }
   ],
   "source": [
    "avg_payment.groupby('call_month').agg({'client_paid':'mean', 'if_all_overpaying_leave':'mean', \n",
    "                                       'if_all_overpaying_switch':'mean', 'if_overpaying_a_lot_switch':'mean', \n",
    "                                       'if_overpaying_a_lot_leave':'mean'}).reset_index().round(2)"
   ]
  },
  {
   "cell_type": "code",
   "execution_count": 69,
   "metadata": {},
   "outputs": [
    {
     "data": {
      "image/png": "[encoded data removed]",
      "text/plain": [
       "<Figure size 1440x720 with 1 Axes>"
      ]
     },
     "metadata": {},
     "output_type": "display_data"
    }
   ],
   "source": [
    "#visualizing actual and potential average profit for different conditions\n",
    "\n",
    "plt.figure(figsize=(20,10))\n",
    "sns.lineplot(data=avg_payment, x='call_month', y='client_paid', label='Actual average profit', ci=None, linewidth=5)\n",
    "sns.lineplot(data=avg_payment, x='call_month', y='if_overpaying_a_lot_switch', label='Average payment if overpaying a lot clients switch tariff', ci=None, linewidth=5)\n",
    "sns.lineplot(data=avg_payment, x='call_month', y='if_all_overpaying_switch', label='Average payment if all overpaying clients switch tariff', ci=None, linewidth=5)\n",
    "sns.lineplot(data=avg_payment, x='call_month', y='if_overpaying_a_lot_leave', label='Average payment if overpaying a lot clients leave', ci=None, linewidth=5)\n",
    "sns.lineplot(data=avg_payment, x='call_month', y='if_all_overpaying_leave', label='Average payment if all overpaying clients leave', ci=None, linewidth=5)\n",
    "\n",
    "\n",
    "plt.title('Actual and potential average payment size with different conditions', fontsize=20, fontdict={\"weight\": \"bold\"})\n",
    "plt.xlabel('Month')\n",
    "plt.ylabel('Average payment size')\n",
    "plt.xticks(profit['call_month'])\n",
    "plt.legend(fontsize=15)\n",
    "plt.show()"
   ]
  },
  {
   "cell_type": "markdown",
   "metadata": {},
   "source": [
    "The picture is pretty much the same: losing overpaying clients (all of them or part of them) would significantly drop average monthly payment. Switching tariff for all overpaying users would give us pretty similar result as switching tariff only for users who overpay a lot.<br>\n",
    "Let's look at November, for example. Actual average payment size is 3205 units; if all overpaying clients would leave, average payment size drops to 735 units; but if they switch it would be 1970 units. Another option: if overpaying a lot clients would leave, average payment size would be 1164 units, but if they switch, it would be 2082. Is the difference in average payment size of 2082 and 1970 units worth taking risk of losing customers who overpay slightly? That might be company's next step."
   ]
  },
  {
   "cell_type": "markdown",
   "metadata": {},
   "source": [
    "<a id=\"part7\"></a>\n",
    "### Statistical tests"
   ]
  },
  {
   "cell_type": "markdown",
   "metadata": {},
   "source": [
    "We would like to prove that switching overpaying users to optimal tariff really has an impact on average payment size.<br>\n",
    "Before we start, we would like to check if our samples come from population with normal distribution. We'll use Shapiro-Wilk test here. Our null hypothesis is that the data is normally distributed, our alternative hypothesis is that the data isn't normally distributed."
   ]
  },
  {
   "cell_type": "code",
   "execution_count": 70,
   "metadata": {},
   "outputs": [
    {
     "name": "stdout",
     "output_type": "stream",
     "text": [
      "(0.4859994649887085, 6.674384585579104e-41)\n",
      "(0.3021377921104431, 2.802596928649634e-45)\n",
      "(0.27348965406417847, 0.0)\n",
      "(0.34598416090011597, 2.1019476964872256e-44)\n",
      "(0.2657715082168579, 0.0)\n"
     ]
    }
   ],
   "source": [
    "print(st.shapiro(data['client_paid']))\n",
    "print(st.shapiro(data['if_overpaying_a_lot_switch']))\n",
    "print(st.shapiro(data['if_all_overpaying_switch']))\n",
    "print(st.shapiro(data['if_overpaying_a_lot_leave']))\n",
    "print(st.shapiro(data['if_all_overpaying_leave']))"
   ]
  },
  {
   "cell_type": "markdown",
   "metadata": {},
   "source": [
    "We get p-value significantly less than 0.05, meaning that for every sample our null hypothesis is rejected. <br>\n",
    "Now we can say that none of our samples is normally distributed. <br>\n",
    "That means that we're going to use Mann Whitney statistical test."
   ]
  },
  {
   "cell_type": "code",
   "execution_count": 71,
   "metadata": {},
   "outputs": [],
   "source": [
    "def mann_whitney_u_test(distribution):\n",
    "    \"\"\"Perform the Mann-Whitney U Test, comparing actual payment distribution with other distributions.\n",
    "    \"\"\"\n",
    "    alpha = .05\n",
    "    u_statistic, p_value = st.mannwhitneyu(data['client_paid'], distribution)\n",
    "    \n",
    "    print(distribution.name)\n",
    "    print(u_statistic, p_value)\n",
    "    if (p_value < alpha):\n",
    "        print('Reject the null hypothesis')\n",
    "    else:\n",
    "        print('Failed to reject null hypothesis')"
   ]
  },
  {
   "cell_type": "code",
   "execution_count": 72,
   "metadata": {},
   "outputs": [
    {
     "name": "stdout",
     "output_type": "stream",
     "text": [
      "if_overpaying_a_lot_switch\n",
      "188914.5 7.668566554588092e-16\n",
      "Reject the null hypothesis\n",
      "\n",
      "if_all_overpaying_switch\n",
      "182097.5 3.8180028787927805e-19\n",
      "Reject the null hypothesis\n",
      "\n",
      "if_overpaying_a_lot_leave\n",
      "113778.5 1.6320963235743667e-71\n",
      "Reject the null hypothesis\n",
      "\n",
      "if_all_overpaying_leave\n",
      "85783.5 1.7589976016532855e-103\n",
      "Reject the null hypothesis\n"
     ]
    }
   ],
   "source": [
    "#running statistical tests for our samples\n",
    "mann_whitney_u_test(data['if_overpaying_a_lot_switch'])\n",
    "print()\n",
    "mann_whitney_u_test(data['if_all_overpaying_switch'])\n",
    "print()\n",
    "mann_whitney_u_test(data['if_overpaying_a_lot_leave'])\n",
    "print()\n",
    "mann_whitney_u_test(data['if_all_overpaying_leave'])"
   ]
  },
  {
   "cell_type": "markdown",
   "metadata": {},
   "source": [
    "For all of our samples the null hypothesis is rejected. That means that all our samples differ significantly from original payment distribution, therefore, we can say that any change in company's policy would lead to significant changes."
   ]
  },
  {
   "cell_type": "markdown",
   "metadata": {},
   "source": [
    "<a id=\"part8\"></a>\n",
    "### General conclusions"
   ]
  },
  {
   "cell_type": "markdown",
   "metadata": {},
   "source": [
    "After studying clients with different tariffs and their payments, we discovered that actually 98% of our clients use less than 5000 minutes a month, which means that tariff plan C is optimal for them. Tariff B is optimal for very small amount of clients and tariff A is almost exclusively optimal for 1 or 2 clients who really use more than 30000 minutes of external outgoing calls a month. <br>\n",
    "If we look at the actual situation, we see that it's different and almost all users of tariffs B and A are overpaying, and most of them are overpaying a lot (between 40 to 60% of their actual payment). <br>\n",
    "The company doesn't want to lose its clients, so it's critical we'll do something to keep them. <br>\n",
    "The first option is to switch all users to their optimal tariff. This would lead to descrease in profit, but increase in loyalty, so lifetime value of such clients will grow. <br>\n",
    "Other option is to switch only those users who overpay a lot: this make the loss smaller. On the other hand, we wouldn't want to lose any clients, so company should think about possibe risk.\n",
    "\n",
    "In general, switching only overpaying a lot users wouldn't save us significant amount of profit, and it won't increase loyalty in clients who overpay slightly. <br>\n",
    "Taking all that into account, I would recommend switching all users to their optimal plans - in long perspective this would allow us to keep all loyal users and therefore keep the profit."
   ]
  }
 ],
 "metadata": {
  "kernelspec": {
   "display_name": "Python 3",
   "language": "python",
   "name": "python3"
  },
  "language_info": {
   "codemirror_mode": {
    "name": "ipython",
    "version": 3
   },
   "file_extension": ".py",
   "mimetype": "text/x-python",
   "name": "python",
   "nbconvert_exporter": "python",
   "pygments_lexer": "ipython3",
   "version": "3.7.6"
  }
 },
 "nbformat": 4,
 "nbformat_minor": 2
}
